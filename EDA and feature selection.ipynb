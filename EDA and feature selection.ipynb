{
 "cells": [
  {
   "cell_type": "code",
   "execution_count": 3,
   "id": "b21c9ecd",
   "metadata": {
    "ExecuteTime": {
     "end_time": "2022-07-23T13:09:54.293175Z",
     "start_time": "2022-07-23T13:09:53.428173Z"
    }
   },
   "outputs": [],
   "source": [
    "import numpy as np\n",
    "import pandas as pd\n",
    "import matplotlib.pyplot as plt"
   ]
  },
  {
   "cell_type": "markdown",
   "id": "36b79434",
   "metadata": {},
   "source": [
    "## Read data"
   ]
  },
  {
   "cell_type": "code",
   "execution_count": 14,
   "id": "a7e95ab2",
   "metadata": {
    "ExecuteTime": {
     "end_time": "2022-07-23T13:22:52.118702Z",
     "start_time": "2022-07-23T13:22:51.982695Z"
    }
   },
   "outputs": [],
   "source": [
    "df = pd.read_csv('data/iron/iron_feature_data.csv')\n",
    "\n",
    "df_target = pd.read_csv('data/iron/iron_target_data.csv')\n",
    "\n",
    "df = df.rename(columns = {'Unnamed: 0':'date'})"
   ]
  },
  {
   "cell_type": "code",
   "execution_count": 16,
   "id": "f2e99db2",
   "metadata": {
    "ExecuteTime": {
     "end_time": "2022-07-23T13:22:59.733035Z",
     "start_time": "2022-07-23T13:22:59.709036Z"
    }
   },
   "outputs": [
    {
     "data": {
      "text/html": [
       "<div>\n",
       "<style scoped>\n",
       "    .dataframe tbody tr th:only-of-type {\n",
       "        vertical-align: middle;\n",
       "    }\n",
       "\n",
       "    .dataframe tbody tr th {\n",
       "        vertical-align: top;\n",
       "    }\n",
       "\n",
       "    .dataframe thead th {\n",
       "        text-align: right;\n",
       "    }\n",
       "</style>\n",
       "<table border=\"1\" class=\"dataframe\">\n",
       "  <thead>\n",
       "    <tr style=\"text-align: right;\">\n",
       "      <th></th>\n",
       "      <th>date</th>\n",
       "      <th>FeatureFamily.CTA</th>\n",
       "      <th>FeatureFamily.CTA.1</th>\n",
       "      <th>FeatureFamily.CURVE</th>\n",
       "      <th>FeatureFamily.CURVE.1</th>\n",
       "      <th>FeatureFamily.CURVE.2</th>\n",
       "      <th>FeatureFamily.CURRENCY</th>\n",
       "      <th>FeatureFamily.CURRENCY.1</th>\n",
       "      <th>FeatureFamily.CURRENCY.2</th>\n",
       "      <th>FeatureFamily.CURRENCY.3</th>\n",
       "      <th>...</th>\n",
       "      <th>FeatureFamily.MACRO.13</th>\n",
       "      <th>FeatureFamily.MACRO.14</th>\n",
       "      <th>FeatureFamily.MACRO.15</th>\n",
       "      <th>FeatureFamily.MACRO.16</th>\n",
       "      <th>FeatureFamily.MACRO.17</th>\n",
       "      <th>FeatureFamily.MACRO.18</th>\n",
       "      <th>FeatureFamily.MACRO.19</th>\n",
       "      <th>FeatureFamily.MACRO.20</th>\n",
       "      <th>FeatureFamily.MACRO.21</th>\n",
       "      <th>FeatureFamily.TECHNICAL</th>\n",
       "    </tr>\n",
       "  </thead>\n",
       "  <tbody>\n",
       "    <tr>\n",
       "      <th>0</th>\n",
       "      <td>NaN</td>\n",
       "      <td>FeatureName.CTA</td>\n",
       "      <td>FeatureName.CTA</td>\n",
       "      <td>FeatureName.CURVE</td>\n",
       "      <td>FeatureName.CURVE</td>\n",
       "      <td>FeatureName.CURVE</td>\n",
       "      <td>FeatureName.EXCHANGE_CURRENCY</td>\n",
       "      <td>FeatureName.EXPORT_CURRENCY</td>\n",
       "      <td>FeatureName.EXPORT_CURRENCY</td>\n",
       "      <td>FeatureName.EXPORT_CURRENCY</td>\n",
       "      <td>...</td>\n",
       "      <td>FeatureName.SENTIMENT</td>\n",
       "      <td>FeatureName.SENTIMENT</td>\n",
       "      <td>FeatureName.SENTIMENT</td>\n",
       "      <td>FeatureName.SENTIMENT</td>\n",
       "      <td>FeatureName.SENTIMENT</td>\n",
       "      <td>FeatureName.SENTIMENT</td>\n",
       "      <td>FeatureName.SENTIMENT</td>\n",
       "      <td>FeatureName.SENTIMENT</td>\n",
       "      <td>FeatureName.SENTIMENT</td>\n",
       "      <td>FeatureName.TECHNICAL</td>\n",
       "    </tr>\n",
       "    <tr>\n",
       "      <th>1</th>\n",
       "      <td>NaN</td>\n",
       "      <td>cta_signal_fs</td>\n",
       "      <td>cta_signal_fs_fast</td>\n",
       "      <td>timespread</td>\n",
       "      <td>timespread_risk_adjusted</td>\n",
       "      <td>convergence_22</td>\n",
       "      <td>us_dollar_index</td>\n",
       "      <td>australian_dollar_spot</td>\n",
       "      <td>brazilian_real_spot</td>\n",
       "      <td>south_african_rand_spot</td>\n",
       "      <td>...</td>\n",
       "      <td>china_caixin_pmi</td>\n",
       "      <td>germany_pmi</td>\n",
       "      <td>japan_pmi</td>\n",
       "      <td>us_pmi</td>\n",
       "      <td>china_gdp_agr</td>\n",
       "      <td>germany_gdp_agr</td>\n",
       "      <td>pct_change_indpro_us</td>\n",
       "      <td>japan_gdp_agr</td>\n",
       "      <td>us_gdp_agr</td>\n",
       "      <td>ewma_cross</td>\n",
       "    </tr>\n",
       "    <tr>\n",
       "      <th>2</th>\n",
       "      <td>date</td>\n",
       "      <td>NaN</td>\n",
       "      <td>NaN</td>\n",
       "      <td>NaN</td>\n",
       "      <td>NaN</td>\n",
       "      <td>NaN</td>\n",
       "      <td>NaN</td>\n",
       "      <td>NaN</td>\n",
       "      <td>NaN</td>\n",
       "      <td>NaN</td>\n",
       "      <td>...</td>\n",
       "      <td>NaN</td>\n",
       "      <td>NaN</td>\n",
       "      <td>NaN</td>\n",
       "      <td>NaN</td>\n",
       "      <td>NaN</td>\n",
       "      <td>NaN</td>\n",
       "      <td>NaN</td>\n",
       "      <td>NaN</td>\n",
       "      <td>NaN</td>\n",
       "      <td>NaN</td>\n",
       "    </tr>\n",
       "    <tr>\n",
       "      <th>3</th>\n",
       "      <td>2010-10-22</td>\n",
       "      <td>NaN</td>\n",
       "      <td>NaN</td>\n",
       "      <td>-0.029621347630406112</td>\n",
       "      <td>-0.021467232543715156</td>\n",
       "      <td>NaN</td>\n",
       "      <td>-2.717381971880949</td>\n",
       "      <td>1.0315054284122231</td>\n",
       "      <td>-0.08968144136792952</td>\n",
       "      <td>-0.03811952981931368</td>\n",
       "      <td>...</td>\n",
       "      <td>NaN</td>\n",
       "      <td>-0.001400499814963709</td>\n",
       "      <td>2.31273182633532e-05</td>\n",
       "      <td>NaN</td>\n",
       "      <td>10.536442086670943</td>\n",
       "      <td>4.571562186812123</td>\n",
       "      <td>-1.2479178312040062</td>\n",
       "      <td>5.501072260317989</td>\n",
       "      <td>3.0620960098736276</td>\n",
       "      <td>NaN</td>\n",
       "    </tr>\n",
       "    <tr>\n",
       "      <th>4</th>\n",
       "      <td>2010-10-25</td>\n",
       "      <td>NaN</td>\n",
       "      <td>NaN</td>\n",
       "      <td>-0.03254560548699419</td>\n",
       "      <td>-0.02325709880724573</td>\n",
       "      <td>NaN</td>\n",
       "      <td>-3.0056866332636596</td>\n",
       "      <td>1.2041793846947317</td>\n",
       "      <td>-0.11630322447041744</td>\n",
       "      <td>-0.035781673274859725</td>\n",
       "      <td>...</td>\n",
       "      <td>NaN</td>\n",
       "      <td>-0.0013067125320023346</td>\n",
       "      <td>2.3077244396175304e-05</td>\n",
       "      <td>NaN</td>\n",
       "      <td>10.51903854434189</td>\n",
       "      <td>4.5752434457103845</td>\n",
       "      <td>-1.2298986226032302</td>\n",
       "      <td>5.5268233441646</td>\n",
       "      <td>3.067002660044316</td>\n",
       "      <td>0.0</td>\n",
       "    </tr>\n",
       "    <tr>\n",
       "      <th>...</th>\n",
       "      <td>...</td>\n",
       "      <td>...</td>\n",
       "      <td>...</td>\n",
       "      <td>...</td>\n",
       "      <td>...</td>\n",
       "      <td>...</td>\n",
       "      <td>...</td>\n",
       "      <td>...</td>\n",
       "      <td>...</td>\n",
       "      <td>...</td>\n",
       "      <td>...</td>\n",
       "      <td>...</td>\n",
       "      <td>...</td>\n",
       "      <td>...</td>\n",
       "      <td>...</td>\n",
       "      <td>...</td>\n",
       "      <td>...</td>\n",
       "      <td>...</td>\n",
       "      <td>...</td>\n",
       "      <td>...</td>\n",
       "      <td>...</td>\n",
       "    </tr>\n",
       "    <tr>\n",
       "      <th>2961</th>\n",
       "      <td>2022-02-23</td>\n",
       "      <td>0.45210615222508616</td>\n",
       "      <td>0.40227587788799957</td>\n",
       "      <td>-0.045150510087837076</td>\n",
       "      <td>-0.0744903208557598</td>\n",
       "      <td>0.038825161422476</td>\n",
       "      <td>0.36317771789039915</td>\n",
       "      <td>0.12710582349199878</td>\n",
       "      <td>-0.40796528554821443</td>\n",
       "      <td>-0.02557777702949866</td>\n",
       "      <td>...</td>\n",
       "      <td>-3.863872481588647e-05</td>\n",
       "      <td>0.001052257835962458</td>\n",
       "      <td>0.00010541794124968899</td>\n",
       "      <td>5.1052408405084525e-06</td>\n",
       "      <td>4.5417481709847465</td>\n",
       "      <td>1.8049389120522492</td>\n",
       "      <td>1.2304217117612566</td>\n",
       "      <td>0.4035927336661934</td>\n",
       "      <td>5.497311218548844</td>\n",
       "      <td>-0.0029641077790233</td>\n",
       "    </tr>\n",
       "    <tr>\n",
       "      <th>2962</th>\n",
       "      <td>2022-02-24</td>\n",
       "      <td>0.45582957538301677</td>\n",
       "      <td>0.40533202712224287</td>\n",
       "      <td>-0.0433237750532551</td>\n",
       "      <td>-0.07435832634306025</td>\n",
       "      <td>0.037357581647335415</td>\n",
       "      <td>1.1138983124388913</td>\n",
       "      <td>-0.1070952359203536</td>\n",
       "      <td>-0.29313540860101045</td>\n",
       "      <td>-0.0039364660449003165</td>\n",
       "      <td>...</td>\n",
       "      <td>-3.8586199843673266e-05</td>\n",
       "      <td>0.0009817912765560993</td>\n",
       "      <td>0.00010527774934934415</td>\n",
       "      <td>5.096782063603676e-06</td>\n",
       "      <td>4.526934038759871</td>\n",
       "      <td>1.8042995726691557</td>\n",
       "      <td>1.2351237028036888</td>\n",
       "      <td>0.4031276563168776</td>\n",
       "      <td>5.497659279793115</td>\n",
       "      <td>-0.0031013352693110537</td>\n",
       "    </tr>\n",
       "    <tr>\n",
       "      <th>2963</th>\n",
       "      <td>2022-02-25</td>\n",
       "      <td>0.4587199202131506</td>\n",
       "      <td>0.4010386030179618</td>\n",
       "      <td>-0.04299002879335599</td>\n",
       "      <td>-0.07424543003229646</td>\n",
       "      <td>0.037412462167490015</td>\n",
       "      <td>0.6589600838031493</td>\n",
       "      <td>0.122088313412119</td>\n",
       "      <td>-0.25044141496474026</td>\n",
       "      <td>-0.022280175445452764</td>\n",
       "      <td>...</td>\n",
       "      <td>-3.85337483700995e-05</td>\n",
       "      <td>0.0009160436518298782</td>\n",
       "      <td>0.00010513774534987806</td>\n",
       "      <td>5.088337532217391e-06</td>\n",
       "      <td>4.512524999759725</td>\n",
       "      <td>1.8037429954090662</td>\n",
       "      <td>1.2398144687428105</td>\n",
       "      <td>0.40272278296845443</td>\n",
       "      <td>5.497962284705378</td>\n",
       "      <td>-0.0036063445994228525</td>\n",
       "    </tr>\n",
       "    <tr>\n",
       "      <th>2964</th>\n",
       "      <td>2022-02-28</td>\n",
       "      <td>0.46067557046329966</td>\n",
       "      <td>0.4003228584632258</td>\n",
       "      <td>-0.042909342200300946</td>\n",
       "      <td>-0.07413591081032325</td>\n",
       "      <td>0.037579732628617704</td>\n",
       "      <td>0.7117940221125941</td>\n",
       "      <td>0.21409293606712645</td>\n",
       "      <td>-0.24664279153237148</td>\n",
       "      <td>-0.0028760349506786707</td>\n",
       "      <td>...</td>\n",
       "      <td>-2.9605221268112834e-06</td>\n",
       "      <td>-0.0013965049110343513</td>\n",
       "      <td>6.293437401992365e-05</td>\n",
       "      <td>7.872717683929828e-05</td>\n",
       "      <td>4.498509976688777</td>\n",
       "      <td>1.8032584667617775</td>\n",
       "      <td>1.2547594630432173</td>\n",
       "      <td>0.4023703202469211</td>\n",
       "      <td>5.49822606580243</td>\n",
       "      <td>-0.0032568017081840463</td>\n",
       "    </tr>\n",
       "    <tr>\n",
       "      <th>2965</th>\n",
       "      <td>2022-03-01</td>\n",
       "      <td>0.46275311391434576</td>\n",
       "      <td>0.41392416738440435</td>\n",
       "      <td>-0.044163356507729214</td>\n",
       "      <td>-0.07404436344995234</td>\n",
       "      <td>0.034590454131378255</td>\n",
       "      <td>1.2520508135395343</td>\n",
       "      <td>0.16193609784384647</td>\n",
       "      <td>-0.24116185234306778</td>\n",
       "      <td>0.0021847084661926327</td>\n",
       "      <td>...</td>\n",
       "      <td>-2.9564981141067627e-06</td>\n",
       "      <td>-0.0013029851548382238</td>\n",
       "      <td>6.285068225986825e-05</td>\n",
       "      <td>7.859674592575517e-05</td>\n",
       "      <td>4.484878195160722</td>\n",
       "      <td>1.8028366600749473</td>\n",
       "      <td>1.2696687790312922</td>\n",
       "      <td>0.40206348362614935</td>\n",
       "      <td>5.498455700585056</td>\n",
       "      <td>-0.002127357845915346</td>\n",
       "    </tr>\n",
       "  </tbody>\n",
       "</table>\n",
       "<p>2966 rows × 90 columns</p>\n",
       "</div>"
      ],
      "text/plain": [
       "            date    FeatureFamily.CTA  FeatureFamily.CTA.1  \\\n",
       "0            NaN      FeatureName.CTA      FeatureName.CTA   \n",
       "1            NaN        cta_signal_fs   cta_signal_fs_fast   \n",
       "2           date                  NaN                  NaN   \n",
       "3     2010-10-22                  NaN                  NaN   \n",
       "4     2010-10-25                  NaN                  NaN   \n",
       "...          ...                  ...                  ...   \n",
       "2961  2022-02-23  0.45210615222508616  0.40227587788799957   \n",
       "2962  2022-02-24  0.45582957538301677  0.40533202712224287   \n",
       "2963  2022-02-25   0.4587199202131506   0.4010386030179618   \n",
       "2964  2022-02-28  0.46067557046329966   0.4003228584632258   \n",
       "2965  2022-03-01  0.46275311391434576  0.41392416738440435   \n",
       "\n",
       "        FeatureFamily.CURVE     FeatureFamily.CURVE.1 FeatureFamily.CURVE.2  \\\n",
       "0         FeatureName.CURVE         FeatureName.CURVE     FeatureName.CURVE   \n",
       "1                timespread  timespread_risk_adjusted        convergence_22   \n",
       "2                       NaN                       NaN                   NaN   \n",
       "3     -0.029621347630406112     -0.021467232543715156                   NaN   \n",
       "4      -0.03254560548699419      -0.02325709880724573                   NaN   \n",
       "...                     ...                       ...                   ...   \n",
       "2961  -0.045150510087837076       -0.0744903208557598     0.038825161422476   \n",
       "2962    -0.0433237750532551      -0.07435832634306025  0.037357581647335415   \n",
       "2963   -0.04299002879335599      -0.07424543003229646  0.037412462167490015   \n",
       "2964  -0.042909342200300946      -0.07413591081032325  0.037579732628617704   \n",
       "2965  -0.044163356507729214      -0.07404436344995234  0.034590454131378255   \n",
       "\n",
       "             FeatureFamily.CURRENCY     FeatureFamily.CURRENCY.1  \\\n",
       "0     FeatureName.EXCHANGE_CURRENCY  FeatureName.EXPORT_CURRENCY   \n",
       "1                   us_dollar_index       australian_dollar_spot   \n",
       "2                               NaN                          NaN   \n",
       "3                -2.717381971880949           1.0315054284122231   \n",
       "4               -3.0056866332636596           1.2041793846947317   \n",
       "...                             ...                          ...   \n",
       "2961            0.36317771789039915          0.12710582349199878   \n",
       "2962             1.1138983124388913          -0.1070952359203536   \n",
       "2963             0.6589600838031493            0.122088313412119   \n",
       "2964             0.7117940221125941          0.21409293606712645   \n",
       "2965             1.2520508135395343          0.16193609784384647   \n",
       "\n",
       "         FeatureFamily.CURRENCY.2     FeatureFamily.CURRENCY.3  ...  \\\n",
       "0     FeatureName.EXPORT_CURRENCY  FeatureName.EXPORT_CURRENCY  ...   \n",
       "1             brazilian_real_spot      south_african_rand_spot  ...   \n",
       "2                             NaN                          NaN  ...   \n",
       "3            -0.08968144136792952         -0.03811952981931368  ...   \n",
       "4            -0.11630322447041744        -0.035781673274859725  ...   \n",
       "...                           ...                          ...  ...   \n",
       "2961         -0.40796528554821443         -0.02557777702949866  ...   \n",
       "2962         -0.29313540860101045       -0.0039364660449003165  ...   \n",
       "2963         -0.25044141496474026        -0.022280175445452764  ...   \n",
       "2964         -0.24664279153237148       -0.0028760349506786707  ...   \n",
       "2965         -0.24116185234306778        0.0021847084661926327  ...   \n",
       "\n",
       "       FeatureFamily.MACRO.13  FeatureFamily.MACRO.14  FeatureFamily.MACRO.15  \\\n",
       "0       FeatureName.SENTIMENT   FeatureName.SENTIMENT   FeatureName.SENTIMENT   \n",
       "1            china_caixin_pmi             germany_pmi               japan_pmi   \n",
       "2                         NaN                     NaN                     NaN   \n",
       "3                         NaN   -0.001400499814963709    2.31273182633532e-05   \n",
       "4                         NaN  -0.0013067125320023346  2.3077244396175304e-05   \n",
       "...                       ...                     ...                     ...   \n",
       "2961   -3.863872481588647e-05    0.001052257835962458  0.00010541794124968899   \n",
       "2962  -3.8586199843673266e-05   0.0009817912765560993  0.00010527774934934415   \n",
       "2963    -3.85337483700995e-05   0.0009160436518298782  0.00010513774534987806   \n",
       "2964  -2.9605221268112834e-06  -0.0013965049110343513   6.293437401992365e-05   \n",
       "2965  -2.9564981141067627e-06  -0.0013029851548382238   6.285068225986825e-05   \n",
       "\n",
       "      FeatureFamily.MACRO.16 FeatureFamily.MACRO.17 FeatureFamily.MACRO.18  \\\n",
       "0      FeatureName.SENTIMENT  FeatureName.SENTIMENT  FeatureName.SENTIMENT   \n",
       "1                     us_pmi          china_gdp_agr        germany_gdp_agr   \n",
       "2                        NaN                    NaN                    NaN   \n",
       "3                        NaN     10.536442086670943      4.571562186812123   \n",
       "4                        NaN      10.51903854434189     4.5752434457103845   \n",
       "...                      ...                    ...                    ...   \n",
       "2961  5.1052408405084525e-06     4.5417481709847465     1.8049389120522492   \n",
       "2962   5.096782063603676e-06      4.526934038759871     1.8042995726691557   \n",
       "2963   5.088337532217391e-06      4.512524999759725     1.8037429954090662   \n",
       "2964   7.872717683929828e-05      4.498509976688777     1.8032584667617775   \n",
       "2965   7.859674592575517e-05      4.484878195160722     1.8028366600749473   \n",
       "\n",
       "     FeatureFamily.MACRO.19 FeatureFamily.MACRO.20 FeatureFamily.MACRO.21  \\\n",
       "0     FeatureName.SENTIMENT  FeatureName.SENTIMENT  FeatureName.SENTIMENT   \n",
       "1      pct_change_indpro_us          japan_gdp_agr             us_gdp_agr   \n",
       "2                       NaN                    NaN                    NaN   \n",
       "3       -1.2479178312040062      5.501072260317989     3.0620960098736276   \n",
       "4       -1.2298986226032302        5.5268233441646      3.067002660044316   \n",
       "...                     ...                    ...                    ...   \n",
       "2961     1.2304217117612566     0.4035927336661934      5.497311218548844   \n",
       "2962     1.2351237028036888     0.4031276563168776      5.497659279793115   \n",
       "2963     1.2398144687428105    0.40272278296845443      5.497962284705378   \n",
       "2964     1.2547594630432173     0.4023703202469211       5.49822606580243   \n",
       "2965     1.2696687790312922    0.40206348362614935      5.498455700585056   \n",
       "\n",
       "     FeatureFamily.TECHNICAL  \n",
       "0      FeatureName.TECHNICAL  \n",
       "1                 ewma_cross  \n",
       "2                        NaN  \n",
       "3                        NaN  \n",
       "4                        0.0  \n",
       "...                      ...  \n",
       "2961     -0.0029641077790233  \n",
       "2962  -0.0031013352693110537  \n",
       "2963  -0.0036063445994228525  \n",
       "2964  -0.0032568017081840463  \n",
       "2965   -0.002127357845915346  \n",
       "\n",
       "[2966 rows x 90 columns]"
      ]
     },
     "execution_count": 16,
     "metadata": {},
     "output_type": "execute_result"
    }
   ],
   "source": [
    "df"
   ]
  },
  {
   "cell_type": "code",
   "execution_count": 17,
   "id": "e5aa6093",
   "metadata": {
    "ExecuteTime": {
     "end_time": "2022-07-23T13:23:01.065974Z",
     "start_time": "2022-07-23T13:23:01.046975Z"
    }
   },
   "outputs": [],
   "source": [
    "df = df[3:].reset_index(drop=True)"
   ]
  },
  {
   "cell_type": "code",
   "execution_count": 18,
   "id": "35c2cbd8",
   "metadata": {
    "ExecuteTime": {
     "end_time": "2022-07-23T13:23:01.900586Z",
     "start_time": "2022-07-23T13:23:01.782802Z"
    }
   },
   "outputs": [
    {
     "data": {
      "text/plain": [
       "<AxesSubplot:>"
      ]
     },
     "execution_count": 18,
     "metadata": {},
     "output_type": "execute_result"
    },
    {
     "data": {
      "image/png": "[encoded data removed]",
      "text/plain": [
       "<Figure size 432x288 with 1 Axes>"
      ]
     },
     "metadata": {
      "needs_background": "light"
     },
     "output_type": "display_data"
    }
   ],
   "source": [
    "df_target.plot()"
   ]
  },
  {
   "cell_type": "code",
   "execution_count": 19,
   "id": "16c1d684",
   "metadata": {
    "ExecuteTime": {
     "end_time": "2022-07-23T13:23:04.054946Z",
     "start_time": "2022-07-23T13:23:04.042910Z"
    }
   },
   "outputs": [],
   "source": [
    "# df = pd.read_csv('dataset/al_lme_prices.csv')\n",
    "\n",
    "# df.al_lme_prices"
   ]
  },
  {
   "cell_type": "markdown",
   "id": "15aab0c3",
   "metadata": {},
   "source": [
    "## Check number of NULL val in each row"
   ]
  },
  {
   "cell_type": "code",
   "execution_count": 27,
   "id": "e5090ae1",
   "metadata": {
    "ExecuteTime": {
     "end_time": "2022-07-23T13:24:15.612509Z",
     "start_time": "2022-07-23T13:24:15.582470Z"
    }
   },
   "outputs": [
    {
     "name": "stdout",
     "output_type": "stream",
     "text": [
      "2010-10-22   16 features are NULL, 60 features are Availiable\n",
      "2010-10-25   15 features are NULL, 61 features are Availiable\n",
      "2010-12-07   14 features are NULL, 62 features are Availiable\n",
      "2011-01-19   13 features are NULL, 63 features are Availiable\n",
      "2011-03-28   12 features are NULL, 64 features are Availiable\n",
      "2011-12-01   11 features are NULL, 65 features are Availiable\n",
      "2012-07-03   10 features are NULL, 66 features are Availiable\n",
      "2012-10-02   8 features are NULL, 68 features are Availiable\n",
      "2014-03-24   7 features are NULL, 69 features are Availiable\n",
      "2015-01-05   1 features are NULL, 75 features are Availiable\n",
      "2015-07-27   0 features are NULL, 76 features are Availiable\n"
     ]
    }
   ],
   "source": [
    "change_i = 0\n",
    "for index, i in enumerate(df.isnull().sum(axis=1)):\n",
    "    if change_i != i: \n",
    "        change_i = i \n",
    "        print(df.iloc[index]['date'], '  {} features are NULL, {} features are Availiable'.format(i, 76-i))"
   ]
  },
  {
   "cell_type": "markdown",
   "id": "69c44f36",
   "metadata": {},
   "source": [
    "## Choose dataset after 2015-01-05, get rid of all null features"
   ]
  },
  {
   "cell_type": "code",
   "execution_count": 23,
   "id": "4054676b",
   "metadata": {
    "ExecuteTime": {
     "end_time": "2022-07-23T13:23:33.913696Z",
     "start_time": "2022-07-23T13:23:33.881761Z"
    }
   },
   "outputs": [],
   "source": [
    "select_date = '2010-10-22'\n",
    "df_features = df[df['date'] >= select_date].reset_index(drop=True)\n",
    "\n",
    "# null features\n",
    "null_features = df.columns[df[df['date'] == select_date].isnull().squeeze()]\n",
    "\n",
    "# features dataframe \n",
    "df_features = df_features.drop(columns=null_features)\n",
    "\n",
    "# target dataframe\n",
    "df_target = df_target[df_target['date'] >= select_date].reset_index(drop=True)"
   ]
  },
  {
   "cell_type": "code",
   "execution_count": 28,
   "id": "d80e4337",
   "metadata": {
    "ExecuteTime": {
     "end_time": "2022-07-23T13:24:23.787883Z",
     "start_time": "2022-07-23T13:24:23.777912Z"
    }
   },
   "outputs": [
    {
     "data": {
      "text/plain": [
       "Index(['date', 'FeatureFamily.CURVE', 'FeatureFamily.CURVE.1',\n",
       "       'FeatureFamily.CURRENCY', 'FeatureFamily.CURRENCY.1',\n",
       "       'FeatureFamily.CURRENCY.2', 'FeatureFamily.CURRENCY.3',\n",
       "       'FeatureFamily.CURRENCY.4', 'FeatureFamily.CURRENCY.5',\n",
       "       'FeatureFamily.CURRENCY.6', 'FeatureFamily.CURRENCY.7',\n",
       "       'FeatureFamily.CURRENCY.8', 'FeatureFamily.CURRENCY.9',\n",
       "       'FeatureFamily.CURRENCY.10', 'FeatureFamily.CURRENCY.11',\n",
       "       'FeatureFamily.CURRENCY.12', 'FeatureFamily.CURRENCY.13',\n",
       "       'FeatureFamily.CURRENCY.14', 'FeatureFamily.CURRENCY.15',\n",
       "       'FeatureFamily.CURRENCY.16', 'FeatureFamily.CURRENCY.17',\n",
       "       'FeatureFamily.SATELLITE', 'FeatureFamily.SATELLITE.1',\n",
       "       'FeatureFamily.SATELLITE.2', 'FeatureFamily.SATELLITE.3',\n",
       "       'FeatureFamily.SATELLITE.4', 'FeatureFamily.SATELLITE.5',\n",
       "       'FeatureFamily.SATELLITE.6', 'FeatureFamily.SATELLITE.7',\n",
       "       'FeatureFamily.SATELLITE.8', 'FeatureFamily.SATELLITE.9',\n",
       "       'FeatureFamily.SATELLITE.10', 'FeatureFamily.SATELLITE.11',\n",
       "       'FeatureFamily.SATELLITE.12', 'FeatureFamily.SATELLITE.13',\n",
       "       'FeatureFamily.SATELLITE.14', 'FeatureFamily.SATELLITE.15',\n",
       "       'FeatureFamily.SATELLITE.16', 'FeatureFamily.SATELLITE.17',\n",
       "       'FeatureFamily.SATELLITE.18', 'FeatureFamily.SATELLITE.19',\n",
       "       'FeatureFamily.SATELLITE.20', 'FeatureFamily.SATELLITE.21',\n",
       "       'FeatureFamily.SATELLITE.22', 'FeatureFamily.SATELLITE.23',\n",
       "       'FeatureFamily.SATELLITE.24', 'FeatureFamily.SATELLITE.25',\n",
       "       'FeatureFamily.SATELLITE.26', 'FeatureFamily.SATELLITE.27',\n",
       "       'FeatureFamily.SATELLITE.28', 'FeatureFamily.SATELLITE.29',\n",
       "       'FeatureFamily.SATELLITE.30', 'FeatureFamily.SATELLITE.31',\n",
       "       'FeatureFamily.SATELLITE.32', 'FeatureFamily.SATELLITE.33',\n",
       "       'FeatureFamily.SATELLITE.34', 'FeatureFamily.SATELLITE.35',\n",
       "       'FeatureFamily.SEASONALITY', 'FeatureFamily.MACRO',\n",
       "       'FeatureFamily.MACRO.1', 'FeatureFamily.MACRO.3',\n",
       "       'FeatureFamily.MACRO.4', 'FeatureFamily.MACRO.6',\n",
       "       'FeatureFamily.MACRO.7', 'FeatureFamily.MACRO.10',\n",
       "       'FeatureFamily.MACRO.11', 'FeatureFamily.MACRO.12',\n",
       "       'FeatureFamily.MACRO.14', 'FeatureFamily.MACRO.15',\n",
       "       'FeatureFamily.MACRO.17', 'FeatureFamily.MACRO.18',\n",
       "       'FeatureFamily.MACRO.19', 'FeatureFamily.MACRO.20',\n",
       "       'FeatureFamily.MACRO.21'],\n",
       "      dtype='object')"
      ]
     },
     "execution_count": 28,
     "metadata": {},
     "output_type": "execute_result"
    }
   ],
   "source": [
    "df_features.columns"
   ]
  },
  {
   "cell_type": "code",
   "execution_count": 29,
   "id": "4319d165",
   "metadata": {
    "ExecuteTime": {
     "end_time": "2022-07-23T13:24:30.946478Z",
     "start_time": "2022-07-23T13:24:30.922479Z"
    }
   },
   "outputs": [],
   "source": [
    "df_merge = pd.merge(df_features,df_target, on='date')"
   ]
  },
  {
   "cell_type": "code",
   "execution_count": 31,
   "id": "eade2bb4",
   "metadata": {
    "ExecuteTime": {
     "end_time": "2022-07-23T13:25:01.491572Z",
     "start_time": "2022-07-23T13:25:01.374028Z"
    }
   },
   "outputs": [],
   "source": [
    "df_merge.to_csv('2010-2022-iron.csv',index=False)"
   ]
  },
  {
   "cell_type": "code",
   "execution_count": 32,
   "id": "e03019f2",
   "metadata": {
    "ExecuteTime": {
     "end_time": "2022-07-23T13:25:01.787615Z",
     "start_time": "2022-07-23T13:25:01.751584Z"
    }
   },
   "outputs": [
    {
     "data": {
      "text/html": [
       "<div>\n",
       "<style scoped>\n",
       "    .dataframe tbody tr th:only-of-type {\n",
       "        vertical-align: middle;\n",
       "    }\n",
       "\n",
       "    .dataframe tbody tr th {\n",
       "        vertical-align: top;\n",
       "    }\n",
       "\n",
       "    .dataframe thead th {\n",
       "        text-align: right;\n",
       "    }\n",
       "</style>\n",
       "<table border=\"1\" class=\"dataframe\">\n",
       "  <thead>\n",
       "    <tr style=\"text-align: right;\">\n",
       "      <th></th>\n",
       "      <th>date</th>\n",
       "      <th>FeatureFamily.CURVE</th>\n",
       "      <th>FeatureFamily.CURVE.1</th>\n",
       "      <th>FeatureFamily.CURRENCY</th>\n",
       "      <th>FeatureFamily.CURRENCY.1</th>\n",
       "      <th>FeatureFamily.CURRENCY.2</th>\n",
       "      <th>FeatureFamily.CURRENCY.3</th>\n",
       "      <th>FeatureFamily.CURRENCY.4</th>\n",
       "      <th>FeatureFamily.CURRENCY.5</th>\n",
       "      <th>FeatureFamily.CURRENCY.6</th>\n",
       "      <th>...</th>\n",
       "      <th>FeatureFamily.MACRO.11</th>\n",
       "      <th>FeatureFamily.MACRO.12</th>\n",
       "      <th>FeatureFamily.MACRO.14</th>\n",
       "      <th>FeatureFamily.MACRO.15</th>\n",
       "      <th>FeatureFamily.MACRO.17</th>\n",
       "      <th>FeatureFamily.MACRO.18</th>\n",
       "      <th>FeatureFamily.MACRO.19</th>\n",
       "      <th>FeatureFamily.MACRO.20</th>\n",
       "      <th>FeatureFamily.MACRO.21</th>\n",
       "      <th>y</th>\n",
       "    </tr>\n",
       "  </thead>\n",
       "  <tbody>\n",
       "    <tr>\n",
       "      <th>0</th>\n",
       "      <td>2010-10-22</td>\n",
       "      <td>-0.029621347630406112</td>\n",
       "      <td>-0.021467232543715156</td>\n",
       "      <td>-2.717381971880949</td>\n",
       "      <td>1.0315054284122231</td>\n",
       "      <td>-0.08968144136792952</td>\n",
       "      <td>-0.03811952981931368</td>\n",
       "      <td>-0.002863636098570899</td>\n",
       "      <td>0.000142057102116178</td>\n",
       "      <td>-0.056869944371017826</td>\n",
       "      <td>...</td>\n",
       "      <td>6.909109096144841e-05</td>\n",
       "      <td>0.007199426216294428</td>\n",
       "      <td>-0.001400499814963709</td>\n",
       "      <td>2.31273182633532e-05</td>\n",
       "      <td>10.536442086670943</td>\n",
       "      <td>4.571562186812123</td>\n",
       "      <td>-1.2479178312040062</td>\n",
       "      <td>5.501072260317989</td>\n",
       "      <td>3.0620960098736276</td>\n",
       "      <td>0.112286</td>\n",
       "    </tr>\n",
       "    <tr>\n",
       "      <th>1</th>\n",
       "      <td>2010-10-25</td>\n",
       "      <td>-0.03254560548699419</td>\n",
       "      <td>-0.02325709880724573</td>\n",
       "      <td>-3.0056866332636596</td>\n",
       "      <td>1.2041793846947317</td>\n",
       "      <td>-0.11630322447041744</td>\n",
       "      <td>-0.035781673274859725</td>\n",
       "      <td>-0.021591062299039395</td>\n",
       "      <td>0.0009679503430736313</td>\n",
       "      <td>-0.06134529519861442</td>\n",
       "      <td>...</td>\n",
       "      <td>7.751185963902092e-05</td>\n",
       "      <td>0.010133494813671881</td>\n",
       "      <td>-0.0013067125320023346</td>\n",
       "      <td>2.3077244396175304e-05</td>\n",
       "      <td>10.51903854434189</td>\n",
       "      <td>4.5752434457103845</td>\n",
       "      <td>-1.2298986226032302</td>\n",
       "      <td>5.5268233441646</td>\n",
       "      <td>3.067002660044316</td>\n",
       "      <td>0.107771</td>\n",
       "    </tr>\n",
       "    <tr>\n",
       "      <th>2</th>\n",
       "      <td>2010-10-26</td>\n",
       "      <td>-0.02945300181266978</td>\n",
       "      <td>-0.021423903554675</td>\n",
       "      <td>-2.3047203076304</td>\n",
       "      <td>1.0319690820218033</td>\n",
       "      <td>-0.09399798078136481</td>\n",
       "      <td>-0.03305344392202369</td>\n",
       "      <td>-0.00818143324346606</td>\n",
       "      <td>0.0008520128690084531</td>\n",
       "      <td>-0.03714871936223503</td>\n",
       "      <td>...</td>\n",
       "      <td>6.439703299714359e-05</td>\n",
       "      <td>0.008262827978840162</td>\n",
       "      <td>-0.0012192059028127743</td>\n",
       "      <td>2.3027321167480965e-05</td>\n",
       "      <td>10.502110902793039</td>\n",
       "      <td>4.578448167717904</td>\n",
       "      <td>-1.2119224314127997</td>\n",
       "      <td>5.549240964712754</td>\n",
       "      <td>3.071274147114306</td>\n",
       "      <td>0.107082</td>\n",
       "    </tr>\n",
       "    <tr>\n",
       "      <th>3</th>\n",
       "      <td>2010-10-27</td>\n",
       "      <td>-0.027952654982079814</td>\n",
       "      <td>-0.020543657078281572</td>\n",
       "      <td>-1.7934435293924436</td>\n",
       "      <td>0.6806294800773466</td>\n",
       "      <td>-0.04674180523784512</td>\n",
       "      <td>-0.007027180734363888</td>\n",
       "      <td>0.0036464573371711483</td>\n",
       "      <td>0.0009228451037396028</td>\n",
       "      <td>-0.029242975470260547</td>\n",
       "      <td>...</td>\n",
       "      <td>4.5789882017383065e-05</td>\n",
       "      <td>0.004848644752357472</td>\n",
       "      <td>-0.0011375593308007369</td>\n",
       "      <td>2.297754794185246e-05</td>\n",
       "      <td>10.485646148492526</td>\n",
       "      <td>4.581238040266759</td>\n",
       "      <td>-1.193989154936884</td>\n",
       "      <td>5.5687566369087085</td>\n",
       "      <td>3.0749926925891975</td>\n",
       "      <td>0.108125</td>\n",
       "    </tr>\n",
       "    <tr>\n",
       "      <th>4</th>\n",
       "      <td>2010-10-28</td>\n",
       "      <td>-0.028009152408049832</td>\n",
       "      <td>-0.020530813873076766</td>\n",
       "      <td>-2.5811205962851087</td>\n",
       "      <td>0.8212263339020837</td>\n",
       "      <td>-0.08997751883302392</td>\n",
       "      <td>-0.02263314848574251</td>\n",
       "      <td>-0.015808718847372713</td>\n",
       "      <td>0.001540771529734808</td>\n",
       "      <td>-0.03384139473558371</td>\n",
       "      <td>...</td>\n",
       "      <td>6.277592670133795e-05</td>\n",
       "      <td>0.003985751072795045</td>\n",
       "      <td>-0.00106138038546762</td>\n",
       "      <td>2.2927924087424104e-05</td>\n",
       "      <td>10.469631623764204</td>\n",
       "      <td>4.583666765385688</td>\n",
       "      <td>-1.1760986907248192</td>\n",
       "      <td>5.585746016331998</td>\n",
       "      <td>3.0782298744470067</td>\n",
       "      <td>0.108481</td>\n",
       "    </tr>\n",
       "    <tr>\n",
       "      <th>...</th>\n",
       "      <td>...</td>\n",
       "      <td>...</td>\n",
       "      <td>...</td>\n",
       "      <td>...</td>\n",
       "      <td>...</td>\n",
       "      <td>...</td>\n",
       "      <td>...</td>\n",
       "      <td>...</td>\n",
       "      <td>...</td>\n",
       "      <td>...</td>\n",
       "      <td>...</td>\n",
       "      <td>...</td>\n",
       "      <td>...</td>\n",
       "      <td>...</td>\n",
       "      <td>...</td>\n",
       "      <td>...</td>\n",
       "      <td>...</td>\n",
       "      <td>...</td>\n",
       "      <td>...</td>\n",
       "      <td>...</td>\n",
       "      <td>...</td>\n",
       "    </tr>\n",
       "    <tr>\n",
       "      <th>2958</th>\n",
       "      <td>2022-02-23</td>\n",
       "      <td>-0.045150510087837076</td>\n",
       "      <td>-0.0744903208557598</td>\n",
       "      <td>0.36317771789039915</td>\n",
       "      <td>0.12710582349199878</td>\n",
       "      <td>-0.40796528554821443</td>\n",
       "      <td>-0.02557777702949866</td>\n",
       "      <td>0.01769002161783372</td>\n",
       "      <td>0.09809009137031895</td>\n",
       "      <td>0.027022437471446163</td>\n",
       "      <td>...</td>\n",
       "      <td>0.0001639011724215194</td>\n",
       "      <td>5.8914537878906615e-05</td>\n",
       "      <td>0.001052257835962458</td>\n",
       "      <td>0.00010541794124968899</td>\n",
       "      <td>4.5417481709847465</td>\n",
       "      <td>1.8049389120522492</td>\n",
       "      <td>1.2304217117612566</td>\n",
       "      <td>0.4035927336661934</td>\n",
       "      <td>5.497311218548844</td>\n",
       "      <td>0.047203</td>\n",
       "    </tr>\n",
       "    <tr>\n",
       "      <th>2959</th>\n",
       "      <td>2022-02-24</td>\n",
       "      <td>-0.0433237750532551</td>\n",
       "      <td>-0.07435832634306025</td>\n",
       "      <td>1.1138983124388913</td>\n",
       "      <td>-0.1070952359203536</td>\n",
       "      <td>-0.29313540860101045</td>\n",
       "      <td>-0.0039364660449003165</td>\n",
       "      <td>0.034960554526978396</td>\n",
       "      <td>0.09496185959645796</td>\n",
       "      <td>0.036670219681418266</td>\n",
       "      <td>...</td>\n",
       "      <td>9.519198757399042e-05</td>\n",
       "      <td>-0.002600137785646807</td>\n",
       "      <td>0.0009817912765560993</td>\n",
       "      <td>0.00010527774934934415</td>\n",
       "      <td>4.526934038759871</td>\n",
       "      <td>1.8042995726691557</td>\n",
       "      <td>1.2351237028036888</td>\n",
       "      <td>0.4031276563168776</td>\n",
       "      <td>5.497659279793115</td>\n",
       "      <td>0.051104</td>\n",
       "    </tr>\n",
       "    <tr>\n",
       "      <th>2960</th>\n",
       "      <td>2022-02-25</td>\n",
       "      <td>-0.04299002879335599</td>\n",
       "      <td>-0.07424543003229646</td>\n",
       "      <td>0.6589600838031493</td>\n",
       "      <td>0.122088313412119</td>\n",
       "      <td>-0.25044141496474026</td>\n",
       "      <td>-0.022280175445452764</td>\n",
       "      <td>0.01055245457889659</td>\n",
       "      <td>0.08745859754678056</td>\n",
       "      <td>0.025097642464912424</td>\n",
       "      <td>...</td>\n",
       "      <td>0.00015331890724807593</td>\n",
       "      <td>-0.0010090910231541307</td>\n",
       "      <td>0.0009160436518298782</td>\n",
       "      <td>0.00010513774534987806</td>\n",
       "      <td>4.512524999759725</td>\n",
       "      <td>1.8037429954090662</td>\n",
       "      <td>1.2398144687428105</td>\n",
       "      <td>0.40272278296845443</td>\n",
       "      <td>5.497962284705378</td>\n",
       "      <td>0.057433</td>\n",
       "    </tr>\n",
       "    <tr>\n",
       "      <th>2961</th>\n",
       "      <td>2022-02-28</td>\n",
       "      <td>-0.042909342200300946</td>\n",
       "      <td>-0.07413591081032325</td>\n",
       "      <td>0.7117940221125941</td>\n",
       "      <td>0.21409293606712645</td>\n",
       "      <td>-0.24664279153237148</td>\n",
       "      <td>-0.0028760349506786707</td>\n",
       "      <td>0.003643308867261575</td>\n",
       "      <td>0.08466010714707209</td>\n",
       "      <td>0.03460430132976201</td>\n",
       "      <td>...</td>\n",
       "      <td>0.0001500309662335086</td>\n",
       "      <td>-0.0006459750178908702</td>\n",
       "      <td>-0.0013965049110343513</td>\n",
       "      <td>6.293437401992365e-05</td>\n",
       "      <td>4.498509976688777</td>\n",
       "      <td>1.8032584667617775</td>\n",
       "      <td>1.2547594630432173</td>\n",
       "      <td>0.4023703202469211</td>\n",
       "      <td>5.49822606580243</td>\n",
       "      <td>0.058937</td>\n",
       "    </tr>\n",
       "    <tr>\n",
       "      <th>2962</th>\n",
       "      <td>2022-03-01</td>\n",
       "      <td>-0.044163356507729214</td>\n",
       "      <td>-0.07404436344995234</td>\n",
       "      <td>1.2520508135395343</td>\n",
       "      <td>0.16193609784384647</td>\n",
       "      <td>-0.24116185234306778</td>\n",
       "      <td>0.0021847084661926327</td>\n",
       "      <td>0.018292887203328567</td>\n",
       "      <td>0.08194841339939286</td>\n",
       "      <td>0.04840249494177509</td>\n",
       "      <td>...</td>\n",
       "      <td>0.00010817219499359756</td>\n",
       "      <td>0.0005079962050766203</td>\n",
       "      <td>-0.0013029851548382238</td>\n",
       "      <td>6.285068225986825e-05</td>\n",
       "      <td>4.484878195160722</td>\n",
       "      <td>1.8028366600749473</td>\n",
       "      <td>1.2696687790312922</td>\n",
       "      <td>0.40206348362614935</td>\n",
       "      <td>5.498455700585056</td>\n",
       "      <td>0.050233</td>\n",
       "    </tr>\n",
       "  </tbody>\n",
       "</table>\n",
       "<p>2963 rows × 75 columns</p>\n",
       "</div>"
      ],
      "text/plain": [
       "            date    FeatureFamily.CURVE  FeatureFamily.CURVE.1  \\\n",
       "0     2010-10-22  -0.029621347630406112  -0.021467232543715156   \n",
       "1     2010-10-25   -0.03254560548699419   -0.02325709880724573   \n",
       "2     2010-10-26   -0.02945300181266978     -0.021423903554675   \n",
       "3     2010-10-27  -0.027952654982079814  -0.020543657078281572   \n",
       "4     2010-10-28  -0.028009152408049832  -0.020530813873076766   \n",
       "...          ...                    ...                    ...   \n",
       "2958  2022-02-23  -0.045150510087837076    -0.0744903208557598   \n",
       "2959  2022-02-24    -0.0433237750532551   -0.07435832634306025   \n",
       "2960  2022-02-25   -0.04299002879335599   -0.07424543003229646   \n",
       "2961  2022-02-28  -0.042909342200300946   -0.07413591081032325   \n",
       "2962  2022-03-01  -0.044163356507729214   -0.07404436344995234   \n",
       "\n",
       "     FeatureFamily.CURRENCY FeatureFamily.CURRENCY.1 FeatureFamily.CURRENCY.2  \\\n",
       "0        -2.717381971880949       1.0315054284122231     -0.08968144136792952   \n",
       "1       -3.0056866332636596       1.2041793846947317     -0.11630322447041744   \n",
       "2          -2.3047203076304       1.0319690820218033     -0.09399798078136481   \n",
       "3       -1.7934435293924436       0.6806294800773466     -0.04674180523784512   \n",
       "4       -2.5811205962851087       0.8212263339020837     -0.08997751883302392   \n",
       "...                     ...                      ...                      ...   \n",
       "2958    0.36317771789039915      0.12710582349199878     -0.40796528554821443   \n",
       "2959     1.1138983124388913      -0.1070952359203536     -0.29313540860101045   \n",
       "2960     0.6589600838031493        0.122088313412119     -0.25044141496474026   \n",
       "2961     0.7117940221125941      0.21409293606712645     -0.24664279153237148   \n",
       "2962     1.2520508135395343      0.16193609784384647     -0.24116185234306778   \n",
       "\n",
       "     FeatureFamily.CURRENCY.3 FeatureFamily.CURRENCY.4  \\\n",
       "0        -0.03811952981931368    -0.002863636098570899   \n",
       "1       -0.035781673274859725    -0.021591062299039395   \n",
       "2        -0.03305344392202369     -0.00818143324346606   \n",
       "3       -0.007027180734363888    0.0036464573371711483   \n",
       "4        -0.02263314848574251    -0.015808718847372713   \n",
       "...                       ...                      ...   \n",
       "2958     -0.02557777702949866      0.01769002161783372   \n",
       "2959   -0.0039364660449003165     0.034960554526978396   \n",
       "2960    -0.022280175445452764      0.01055245457889659   \n",
       "2961   -0.0028760349506786707     0.003643308867261575   \n",
       "2962    0.0021847084661926327     0.018292887203328567   \n",
       "\n",
       "     FeatureFamily.CURRENCY.5 FeatureFamily.CURRENCY.6  ...  \\\n",
       "0        0.000142057102116178    -0.056869944371017826  ...   \n",
       "1       0.0009679503430736313     -0.06134529519861442  ...   \n",
       "2       0.0008520128690084531     -0.03714871936223503  ...   \n",
       "3       0.0009228451037396028    -0.029242975470260547  ...   \n",
       "4        0.001540771529734808     -0.03384139473558371  ...   \n",
       "...                       ...                      ...  ...   \n",
       "2958      0.09809009137031895     0.027022437471446163  ...   \n",
       "2959      0.09496185959645796     0.036670219681418266  ...   \n",
       "2960      0.08745859754678056     0.025097642464912424  ...   \n",
       "2961      0.08466010714707209      0.03460430132976201  ...   \n",
       "2962      0.08194841339939286      0.04840249494177509  ...   \n",
       "\n",
       "      FeatureFamily.MACRO.11  FeatureFamily.MACRO.12  FeatureFamily.MACRO.14  \\\n",
       "0      6.909109096144841e-05    0.007199426216294428   -0.001400499814963709   \n",
       "1      7.751185963902092e-05    0.010133494813671881  -0.0013067125320023346   \n",
       "2      6.439703299714359e-05    0.008262827978840162  -0.0012192059028127743   \n",
       "3     4.5789882017383065e-05    0.004848644752357472  -0.0011375593308007369   \n",
       "4      6.277592670133795e-05    0.003985751072795045    -0.00106138038546762   \n",
       "...                      ...                     ...                     ...   \n",
       "2958   0.0001639011724215194  5.8914537878906615e-05    0.001052257835962458   \n",
       "2959   9.519198757399042e-05   -0.002600137785646807   0.0009817912765560993   \n",
       "2960  0.00015331890724807593  -0.0010090910231541307   0.0009160436518298782   \n",
       "2961   0.0001500309662335086  -0.0006459750178908702  -0.0013965049110343513   \n",
       "2962  0.00010817219499359756   0.0005079962050766203  -0.0013029851548382238   \n",
       "\n",
       "      FeatureFamily.MACRO.15 FeatureFamily.MACRO.17 FeatureFamily.MACRO.18  \\\n",
       "0       2.31273182633532e-05     10.536442086670943      4.571562186812123   \n",
       "1     2.3077244396175304e-05      10.51903854434189     4.5752434457103845   \n",
       "2     2.3027321167480965e-05     10.502110902793039      4.578448167717904   \n",
       "3      2.297754794185246e-05     10.485646148492526      4.581238040266759   \n",
       "4     2.2927924087424104e-05     10.469631623764204      4.583666765385688   \n",
       "...                      ...                    ...                    ...   \n",
       "2958  0.00010541794124968899     4.5417481709847465     1.8049389120522492   \n",
       "2959  0.00010527774934934415      4.526934038759871     1.8042995726691557   \n",
       "2960  0.00010513774534987806      4.512524999759725     1.8037429954090662   \n",
       "2961   6.293437401992365e-05      4.498509976688777     1.8032584667617775   \n",
       "2962   6.285068225986825e-05      4.484878195160722     1.8028366600749473   \n",
       "\n",
       "     FeatureFamily.MACRO.19 FeatureFamily.MACRO.20 FeatureFamily.MACRO.21  \\\n",
       "0       -1.2479178312040062      5.501072260317989     3.0620960098736276   \n",
       "1       -1.2298986226032302        5.5268233441646      3.067002660044316   \n",
       "2       -1.2119224314127997      5.549240964712754      3.071274147114306   \n",
       "3        -1.193989154936884     5.5687566369087085     3.0749926925891975   \n",
       "4       -1.1760986907248192      5.585746016331998     3.0782298744470067   \n",
       "...                     ...                    ...                    ...   \n",
       "2958     1.2304217117612566     0.4035927336661934      5.497311218548844   \n",
       "2959     1.2351237028036888     0.4031276563168776      5.497659279793115   \n",
       "2960     1.2398144687428105    0.40272278296845443      5.497962284705378   \n",
       "2961     1.2547594630432173     0.4023703202469211       5.49822606580243   \n",
       "2962     1.2696687790312922    0.40206348362614935      5.498455700585056   \n",
       "\n",
       "             y  \n",
       "0     0.112286  \n",
       "1     0.107771  \n",
       "2     0.107082  \n",
       "3     0.108125  \n",
       "4     0.108481  \n",
       "...        ...  \n",
       "2958  0.047203  \n",
       "2959  0.051104  \n",
       "2960  0.057433  \n",
       "2961  0.058937  \n",
       "2962  0.050233  \n",
       "\n",
       "[2963 rows x 75 columns]"
      ]
     },
     "execution_count": 32,
     "metadata": {},
     "output_type": "execute_result"
    }
   ],
   "source": [
    "df_merge"
   ]
  },
  {
   "cell_type": "code",
   "execution_count": null,
   "id": "3ac023b7",
   "metadata": {},
   "outputs": [],
   "source": []
  },
  {
   "cell_type": "markdown",
   "id": "8f652d9c",
   "metadata": {
    "heading_collapsed": true
   },
   "source": [
    "## Correlation Matrix"
   ]
  },
  {
   "cell_type": "code",
   "execution_count": 40,
   "id": "908c0044",
   "metadata": {
    "ExecuteTime": {
     "end_time": "2022-06-25T15:12:00.921538Z",
     "start_time": "2022-06-25T15:12:00.894885Z"
    },
    "hidden": true
   },
   "outputs": [],
   "source": [
    "df2 = pd.merge(df_features, df_target).set_index('date')"
   ]
  },
  {
   "cell_type": "code",
   "execution_count": 41,
   "id": "c19d6b01",
   "metadata": {
    "ExecuteTime": {
     "end_time": "2022-06-25T15:12:01.248784Z",
     "start_time": "2022-06-25T15:12:01.177758Z"
    },
    "hidden": true
   },
   "outputs": [],
   "source": [
    "df2 = df2.astype(float)"
   ]
  },
  {
   "cell_type": "code",
   "execution_count": 43,
   "id": "e64e9d9a",
   "metadata": {
    "ExecuteTime": {
     "end_time": "2022-06-25T15:12:10.441862Z",
     "start_time": "2022-06-25T15:12:10.409305Z"
    },
    "hidden": true
   },
   "outputs": [
    {
     "name": "stdout",
     "output_type": "stream",
     "text": [
      "(40, 40)\n",
      "correlation with target y:\n"
     ]
    },
    {
     "data": {
      "text/html": [
       "<div>\n",
       "<style scoped>\n",
       "    .dataframe tbody tr th:only-of-type {\n",
       "        vertical-align: middle;\n",
       "    }\n",
       "\n",
       "    .dataframe tbody tr th {\n",
       "        vertical-align: top;\n",
       "    }\n",
       "\n",
       "    .dataframe thead th {\n",
       "        text-align: right;\n",
       "    }\n",
       "</style>\n",
       "<table border=\"1\" class=\"dataframe\">\n",
       "  <thead>\n",
       "    <tr style=\"text-align: right;\">\n",
       "      <th></th>\n",
       "      <th>y</th>\n",
       "    </tr>\n",
       "  </thead>\n",
       "  <tbody>\n",
       "    <tr>\n",
       "      <th>y</th>\n",
       "      <td>1.000000</td>\n",
       "    </tr>\n",
       "    <tr>\n",
       "      <th>FeatureFamily.MACRO.3</th>\n",
       "      <td>0.182680</td>\n",
       "    </tr>\n",
       "    <tr>\n",
       "      <th>FeatureFamily.MACRO.11</th>\n",
       "      <td>0.175017</td>\n",
       "    </tr>\n",
       "    <tr>\n",
       "      <th>FeatureFamily.CURRENCY.14</th>\n",
       "      <td>0.170750</td>\n",
       "    </tr>\n",
       "    <tr>\n",
       "      <th>FeatureFamily.MACRO.12</th>\n",
       "      <td>0.134568</td>\n",
       "    </tr>\n",
       "    <tr>\n",
       "      <th>FeatureFamily.SATELLITE.15</th>\n",
       "      <td>0.122202</td>\n",
       "    </tr>\n",
       "    <tr>\n",
       "      <th>FeatureFamily.SATELLITE.14</th>\n",
       "      <td>0.097861</td>\n",
       "    </tr>\n",
       "    <tr>\n",
       "      <th>FeatureFamily.SATELLITE.7</th>\n",
       "      <td>0.084569</td>\n",
       "    </tr>\n",
       "    <tr>\n",
       "      <th>FeatureFamily.SATELLITE.1</th>\n",
       "      <td>0.051446</td>\n",
       "    </tr>\n",
       "    <tr>\n",
       "      <th>FeatureFamily.MACRO.1</th>\n",
       "      <td>0.043062</td>\n",
       "    </tr>\n",
       "    <tr>\n",
       "      <th>FeatureFamily.MACRO</th>\n",
       "      <td>0.041960</td>\n",
       "    </tr>\n",
       "    <tr>\n",
       "      <th>FeatureFamily.CURRENCY.10</th>\n",
       "      <td>0.033885</td>\n",
       "    </tr>\n",
       "    <tr>\n",
       "      <th>FeatureFamily.SEASONALITY</th>\n",
       "      <td>0.018846</td>\n",
       "    </tr>\n",
       "    <tr>\n",
       "      <th>FeatureFamily.SATELLITE.11</th>\n",
       "      <td>0.009892</td>\n",
       "    </tr>\n",
       "    <tr>\n",
       "      <th>FeatureFamily.CURVE</th>\n",
       "      <td>0.005900</td>\n",
       "    </tr>\n",
       "    <tr>\n",
       "      <th>FeatureFamily.SATELLITE</th>\n",
       "      <td>0.001891</td>\n",
       "    </tr>\n",
       "    <tr>\n",
       "      <th>FeatureFamily.SATELLITE.13</th>\n",
       "      <td>-0.000763</td>\n",
       "    </tr>\n",
       "    <tr>\n",
       "      <th>FeatureFamily.CURRENCY.3</th>\n",
       "      <td>-0.003112</td>\n",
       "    </tr>\n",
       "    <tr>\n",
       "      <th>FeatureFamily.SATELLITE.5</th>\n",
       "      <td>-0.006702</td>\n",
       "    </tr>\n",
       "    <tr>\n",
       "      <th>FeatureFamily.MACRO.13</th>\n",
       "      <td>-0.006877</td>\n",
       "    </tr>\n",
       "    <tr>\n",
       "      <th>FeatureFamily.SATELLITE.8</th>\n",
       "      <td>-0.008792</td>\n",
       "    </tr>\n",
       "    <tr>\n",
       "      <th>FeatureFamily.SATELLITE.4</th>\n",
       "      <td>-0.012392</td>\n",
       "    </tr>\n",
       "    <tr>\n",
       "      <th>FeatureFamily.SATELLITE.16</th>\n",
       "      <td>-0.021248</td>\n",
       "    </tr>\n",
       "    <tr>\n",
       "      <th>FeatureFamily.SATELLITE.12</th>\n",
       "      <td>-0.033334</td>\n",
       "    </tr>\n",
       "    <tr>\n",
       "      <th>FeatureFamily.SATELLITE.9</th>\n",
       "      <td>-0.045892</td>\n",
       "    </tr>\n",
       "    <tr>\n",
       "      <th>FeatureFamily.SATELLITE.3</th>\n",
       "      <td>-0.048122</td>\n",
       "    </tr>\n",
       "    <tr>\n",
       "      <th>FeatureFamily.MACRO.21</th>\n",
       "      <td>-0.060783</td>\n",
       "    </tr>\n",
       "    <tr>\n",
       "      <th>FeatureFamily.SATELLITE.2</th>\n",
       "      <td>-0.095090</td>\n",
       "    </tr>\n",
       "    <tr>\n",
       "      <th>FeatureFamily.SATELLITE.10</th>\n",
       "      <td>-0.098921</td>\n",
       "    </tr>\n",
       "    <tr>\n",
       "      <th>FeatureFamily.CURRENCY.4</th>\n",
       "      <td>-0.108866</td>\n",
       "    </tr>\n",
       "    <tr>\n",
       "      <th>FeatureFamily.MACRO.4</th>\n",
       "      <td>-0.113259</td>\n",
       "    </tr>\n",
       "    <tr>\n",
       "      <th>FeatureFamily.SATELLITE.6</th>\n",
       "      <td>-0.119645</td>\n",
       "    </tr>\n",
       "    <tr>\n",
       "      <th>FeatureFamily.CURRENCY</th>\n",
       "      <td>-0.123177</td>\n",
       "    </tr>\n",
       "    <tr>\n",
       "      <th>FeatureFamily.MACRO.18</th>\n",
       "      <td>-0.132122</td>\n",
       "    </tr>\n",
       "    <tr>\n",
       "      <th>FeatureFamily.CURRENCY.8</th>\n",
       "      <td>-0.132127</td>\n",
       "    </tr>\n",
       "    <tr>\n",
       "      <th>FeatureFamily.MACRO.20</th>\n",
       "      <td>-0.151024</td>\n",
       "    </tr>\n",
       "    <tr>\n",
       "      <th>FeatureFamily.CURRENCY.1</th>\n",
       "      <td>-0.152850</td>\n",
       "    </tr>\n",
       "    <tr>\n",
       "      <th>FeatureFamily.CURRENCY.6</th>\n",
       "      <td>-0.160774</td>\n",
       "    </tr>\n",
       "    <tr>\n",
       "      <th>FeatureFamily.CURRENCY.12</th>\n",
       "      <td>-0.202576</td>\n",
       "    </tr>\n",
       "    <tr>\n",
       "      <th>FeatureFamily.MACRO.19</th>\n",
       "      <td>-0.245403</td>\n",
       "    </tr>\n",
       "  </tbody>\n",
       "</table>\n",
       "</div>"
      ],
      "text/plain": [
       "                                   y\n",
       "y                           1.000000\n",
       "FeatureFamily.MACRO.3       0.182680\n",
       "FeatureFamily.MACRO.11      0.175017\n",
       "FeatureFamily.CURRENCY.14   0.170750\n",
       "FeatureFamily.MACRO.12      0.134568\n",
       "FeatureFamily.SATELLITE.15  0.122202\n",
       "FeatureFamily.SATELLITE.14  0.097861\n",
       "FeatureFamily.SATELLITE.7   0.084569\n",
       "FeatureFamily.SATELLITE.1   0.051446\n",
       "FeatureFamily.MACRO.1       0.043062\n",
       "FeatureFamily.MACRO         0.041960\n",
       "FeatureFamily.CURRENCY.10   0.033885\n",
       "FeatureFamily.SEASONALITY   0.018846\n",
       "FeatureFamily.SATELLITE.11  0.009892\n",
       "FeatureFamily.CURVE         0.005900\n",
       "FeatureFamily.SATELLITE     0.001891\n",
       "FeatureFamily.SATELLITE.13 -0.000763\n",
       "FeatureFamily.CURRENCY.3   -0.003112\n",
       "FeatureFamily.SATELLITE.5  -0.006702\n",
       "FeatureFamily.MACRO.13     -0.006877\n",
       "FeatureFamily.SATELLITE.8  -0.008792\n",
       "FeatureFamily.SATELLITE.4  -0.012392\n",
       "FeatureFamily.SATELLITE.16 -0.021248\n",
       "FeatureFamily.SATELLITE.12 -0.033334\n",
       "FeatureFamily.SATELLITE.9  -0.045892\n",
       "FeatureFamily.SATELLITE.3  -0.048122\n",
       "FeatureFamily.MACRO.21     -0.060783\n",
       "FeatureFamily.SATELLITE.2  -0.095090\n",
       "FeatureFamily.SATELLITE.10 -0.098921\n",
       "FeatureFamily.CURRENCY.4   -0.108866\n",
       "FeatureFamily.MACRO.4      -0.113259\n",
       "FeatureFamily.SATELLITE.6  -0.119645\n",
       "FeatureFamily.CURRENCY     -0.123177\n",
       "FeatureFamily.MACRO.18     -0.132122\n",
       "FeatureFamily.CURRENCY.8   -0.132127\n",
       "FeatureFamily.MACRO.20     -0.151024\n",
       "FeatureFamily.CURRENCY.1   -0.152850\n",
       "FeatureFamily.CURRENCY.6   -0.160774\n",
       "FeatureFamily.CURRENCY.12  -0.202576\n",
       "FeatureFamily.MACRO.19     -0.245403"
      ]
     },
     "execution_count": 43,
     "metadata": {},
     "output_type": "execute_result"
    }
   ],
   "source": [
    "# check correlations of features with price\n",
    "df_corr = df2.corr(method=\"pearson\")\n",
    "print(df_corr.shape)\n",
    "print(\"correlation with target y:\")\n",
    "df_corrP = pd.DataFrame(df_corr[\"y\"].sort_values(ascending=False))\n",
    "df_corrP"
   ]
  },
  {
   "cell_type": "code",
   "execution_count": 57,
   "id": "73a151b5",
   "metadata": {
    "ExecuteTime": {
     "end_time": "2022-06-25T15:14:16.306094Z",
     "start_time": "2022-06-25T15:14:16.297994Z"
    },
    "hidden": true
   },
   "outputs": [
    {
     "name": "stdout",
     "output_type": "stream",
     "text": [
      "17 features have more than 10% correlation with target y\n"
     ]
    },
    {
     "data": {
      "text/html": [
       "<div>\n",
       "<style scoped>\n",
       "    .dataframe tbody tr th:only-of-type {\n",
       "        vertical-align: middle;\n",
       "    }\n",
       "\n",
       "    .dataframe tbody tr th {\n",
       "        vertical-align: top;\n",
       "    }\n",
       "\n",
       "    .dataframe thead th {\n",
       "        text-align: right;\n",
       "    }\n",
       "</style>\n",
       "<table border=\"1\" class=\"dataframe\">\n",
       "  <thead>\n",
       "    <tr style=\"text-align: right;\">\n",
       "      <th></th>\n",
       "      <th>y</th>\n",
       "    </tr>\n",
       "  </thead>\n",
       "  <tbody>\n",
       "    <tr>\n",
       "      <th>y</th>\n",
       "      <td>1.00</td>\n",
       "    </tr>\n",
       "    <tr>\n",
       "      <th>FeatureFamily.MACRO.3</th>\n",
       "      <td>0.18</td>\n",
       "    </tr>\n",
       "    <tr>\n",
       "      <th>FeatureFamily.MACRO.11</th>\n",
       "      <td>0.18</td>\n",
       "    </tr>\n",
       "    <tr>\n",
       "      <th>FeatureFamily.CURRENCY.14</th>\n",
       "      <td>0.17</td>\n",
       "    </tr>\n",
       "    <tr>\n",
       "      <th>FeatureFamily.MACRO.12</th>\n",
       "      <td>0.13</td>\n",
       "    </tr>\n",
       "    <tr>\n",
       "      <th>FeatureFamily.SATELLITE.15</th>\n",
       "      <td>0.12</td>\n",
       "    </tr>\n",
       "    <tr>\n",
       "      <th>FeatureFamily.CURRENCY.4</th>\n",
       "      <td>-0.11</td>\n",
       "    </tr>\n",
       "    <tr>\n",
       "      <th>FeatureFamily.MACRO.4</th>\n",
       "      <td>-0.11</td>\n",
       "    </tr>\n",
       "    <tr>\n",
       "      <th>FeatureFamily.SATELLITE.6</th>\n",
       "      <td>-0.12</td>\n",
       "    </tr>\n",
       "    <tr>\n",
       "      <th>FeatureFamily.CURRENCY</th>\n",
       "      <td>-0.12</td>\n",
       "    </tr>\n",
       "    <tr>\n",
       "      <th>FeatureFamily.MACRO.18</th>\n",
       "      <td>-0.13</td>\n",
       "    </tr>\n",
       "    <tr>\n",
       "      <th>FeatureFamily.CURRENCY.8</th>\n",
       "      <td>-0.13</td>\n",
       "    </tr>\n",
       "    <tr>\n",
       "      <th>FeatureFamily.MACRO.20</th>\n",
       "      <td>-0.15</td>\n",
       "    </tr>\n",
       "    <tr>\n",
       "      <th>FeatureFamily.CURRENCY.1</th>\n",
       "      <td>-0.15</td>\n",
       "    </tr>\n",
       "    <tr>\n",
       "      <th>FeatureFamily.CURRENCY.6</th>\n",
       "      <td>-0.16</td>\n",
       "    </tr>\n",
       "    <tr>\n",
       "      <th>FeatureFamily.CURRENCY.12</th>\n",
       "      <td>-0.20</td>\n",
       "    </tr>\n",
       "    <tr>\n",
       "      <th>FeatureFamily.MACRO.19</th>\n",
       "      <td>-0.25</td>\n",
       "    </tr>\n",
       "  </tbody>\n",
       "</table>\n",
       "</div>"
      ],
      "text/plain": [
       "                               y\n",
       "y                           1.00\n",
       "FeatureFamily.MACRO.3       0.18\n",
       "FeatureFamily.MACRO.11      0.18\n",
       "FeatureFamily.CURRENCY.14   0.17\n",
       "FeatureFamily.MACRO.12      0.13\n",
       "FeatureFamily.SATELLITE.15  0.12\n",
       "FeatureFamily.CURRENCY.4   -0.11\n",
       "FeatureFamily.MACRO.4      -0.11\n",
       "FeatureFamily.SATELLITE.6  -0.12\n",
       "FeatureFamily.CURRENCY     -0.12\n",
       "FeatureFamily.MACRO.18     -0.13\n",
       "FeatureFamily.CURRENCY.8   -0.13\n",
       "FeatureFamily.MACRO.20     -0.15\n",
       "FeatureFamily.CURRENCY.1   -0.15\n",
       "FeatureFamily.CURRENCY.6   -0.16\n",
       "FeatureFamily.CURRENCY.12  -0.20\n",
       "FeatureFamily.MACRO.19     -0.25"
      ]
     },
     "execution_count": 57,
     "metadata": {},
     "output_type": "execute_result"
    }
   ],
   "source": [
    "# highest absolute correlations with price\n",
    "pd.options.display.float_format = '{:,.2f}'.format\n",
    "df_corrH = df_corrP[np.abs(df_corrP[\"y\"]) > 0.10]\n",
    "print('{} features have more than 10% correlation with target y'.format(len(df_corrH)))\n",
    "\n",
    "df_corrH"
   ]
  },
  {
   "cell_type": "code",
   "execution_count": 58,
   "id": "3cd8ffec",
   "metadata": {
    "ExecuteTime": {
     "end_time": "2022-06-25T15:14:16.602025Z",
     "start_time": "2022-06-25T15:14:16.591025Z"
    },
    "hidden": true
   },
   "outputs": [],
   "source": [
    "import seaborn as sns"
   ]
  },
  {
   "cell_type": "code",
   "execution_count": 59,
   "id": "7a0ebee7",
   "metadata": {
    "ExecuteTime": {
     "end_time": "2022-06-25T15:14:18.154213Z",
     "start_time": "2022-06-25T15:14:17.013268Z"
    },
    "hidden": true
   },
   "outputs": [
    {
     "data": {
      "image/png": "[encoded data removed]",
      "text/plain": [
       "<Figure size 1080x1080 with 2 Axes>"
      ]
     },
     "metadata": {},
     "output_type": "display_data"
    }
   ],
   "source": [
    "# correlation matrix, limited to highly correlated features\n",
    "df3 = df2[df_corrH.index]\n",
    "\n",
    "idx = df3.corr().sort_values(\"y\", ascending=False).index\n",
    "df3_sorted = df3.loc[:, idx]  # sort dataframe columns by their correlation with Appliances\n",
    "\n",
    "plt.figure(figsize = (15,15))\n",
    "sns.set(font_scale=0.75)\n",
    "ax = sns.heatmap(df3_sorted.corr().round(3), \n",
    "            annot=True, \n",
    "            square=True, \n",
    "            linewidths=.75, cmap=\"coolwarm\", \n",
    "            fmt = \".2f\", \n",
    "            annot_kws = {\"size\": 11})\n",
    "ax.xaxis.tick_bottom()\n",
    "plt.title(\"correlation matrix\")\n",
    "plt.show()"
   ]
  },
  {
   "cell_type": "markdown",
   "id": "299e4cab",
   "metadata": {},
   "source": [
    "## PCA"
   ]
  },
  {
   "cell_type": "code",
   "execution_count": 68,
   "id": "3c628ed8",
   "metadata": {
    "ExecuteTime": {
     "end_time": "2022-06-27T16:19:43.022613Z",
     "start_time": "2022-06-27T16:19:42.829619Z"
    }
   },
   "outputs": [
    {
     "data": {
      "image/png": "[encoded data removed]",
      "text/plain": [
       "<Figure size 1800x720 with 1 Axes>"
      ]
     },
     "metadata": {},
     "output_type": "display_data"
    }
   ],
   "source": [
    "from sklearn.decomposition import PCA\n",
    "\n",
    "# PCA:\n",
    "# dataframe with feature columns only, without actual price\n",
    "df3 = df2.copy()\n",
    "df_feat = df3.loc[:, df3.columns != \"y\"]\n",
    "#print(df_feat.info())\n",
    "\n",
    "# principal components among features\n",
    "pca = PCA(n_components=10)\n",
    "res_pca = pca.fit_transform(df_feat)\n",
    "\n",
    "# scree plot\n",
    "features = range(pca.n_components_)\n",
    "plt.figure(figsize = (25,10))\n",
    "plt.bar(features, pca.explained_variance_ratio_, color=\"blue\")\n",
    "plt.plot(np.cumsum(pca.explained_variance_ratio_))\n",
    "plt.xlabel(\"PCA features\", fontsize=15)\n",
    "plt.ylabel(\"% variance explained\", fontsize=20)\n",
    "plt.xticks(features, fontsize=20)\n",
    "plt.yticks(ticks=np.arange(0.0, 1.0001, 0.1), fontsize=20);"
   ]
  },
  {
   "cell_type": "code",
   "execution_count": 133,
   "id": "ac9be1eb",
   "metadata": {
    "ExecuteTime": {
     "end_time": "2022-06-27T16:48:33.855122Z",
     "start_time": "2022-06-27T16:48:33.837049Z"
    }
   },
   "outputs": [],
   "source": [
    "df_pca = pd.DataFrame(res_pca).add_prefix('pca_')\n",
    "df_pca['y'] = df3['y'].values\n",
    "df_pca.insert(0,'date','')\n",
    "df_pca['date'] = df3.index"
   ]
  },
  {
   "cell_type": "code",
   "execution_count": 135,
   "id": "2927dc62",
   "metadata": {
    "ExecuteTime": {
     "end_time": "2022-06-27T16:49:09.716709Z",
     "start_time": "2022-06-27T16:49:09.642537Z"
    }
   },
   "outputs": [],
   "source": [
    "df_pca.to_csv('2005-2022-pca10.csv',index=False)"
   ]
  },
  {
   "cell_type": "code",
   "execution_count": 128,
   "id": "23b6f567",
   "metadata": {
    "ExecuteTime": {
     "end_time": "2022-06-27T16:46:25.937894Z",
     "start_time": "2022-06-27T16:46:25.919907Z"
    }
   },
   "outputs": [
    {
     "data": {
      "text/plain": [
       "array([-0.04243958, -0.04986949, -0.04640878, ...,  0.00874652,\n",
       "        0.04289776, -0.00584108])"
      ]
     },
     "execution_count": 128,
     "metadata": {},
     "output_type": "execute_result"
    }
   ],
   "source": [
    "df3['y'].values"
   ]
  },
  {
   "cell_type": "code",
   "execution_count": 70,
   "id": "f7d8a1c2",
   "metadata": {
    "ExecuteTime": {
     "end_time": "2022-06-27T16:20:02.978857Z",
     "start_time": "2022-06-27T16:20:02.964982Z"
    },
    "scrolled": true
   },
   "outputs": [
    {
     "data": {
      "text/plain": [
       "array([0.37443167, 0.6512714 , 0.80659807, 0.94136186, 0.96777725,\n",
       "       0.97655992, 0.98198083, 0.98612306, 0.9897793 , 0.99212931])"
      ]
     },
     "execution_count": 70,
     "metadata": {},
     "output_type": "execute_result"
    }
   ],
   "source": [
    "np.cumsum(pca.explained_variance_ratio_)"
   ]
  },
  {
   "cell_type": "markdown",
   "id": "bcb97ba5",
   "metadata": {},
   "source": [
    "## LASSO feature selection"
   ]
  },
  {
   "cell_type": "code",
   "execution_count": 106,
   "id": "c4b349e9",
   "metadata": {
    "ExecuteTime": {
     "end_time": "2022-06-27T16:42:01.304936Z",
     "start_time": "2022-06-27T16:42:01.292865Z"
    }
   },
   "outputs": [],
   "source": [
    "from sklearn.linear_model import Lasso\n",
    "from sklearn.model_selection import train_test_split"
   ]
  },
  {
   "cell_type": "code",
   "execution_count": 107,
   "id": "5fb685a8",
   "metadata": {
    "ExecuteTime": {
     "end_time": "2022-06-27T16:42:03.357153Z",
     "start_time": "2022-06-27T16:42:03.349158Z"
    }
   },
   "outputs": [],
   "source": [
    "X = df_feat.values\n",
    "y = df3['y'].values"
   ]
  },
  {
   "cell_type": "code",
   "execution_count": 108,
   "id": "b7690716",
   "metadata": {
    "ExecuteTime": {
     "end_time": "2022-06-27T16:42:03.605821Z",
     "start_time": "2022-06-27T16:42:03.590821Z"
    }
   },
   "outputs": [],
   "source": [
    "X_train, X_test, y_train, y_test = train_test_split(X, y, test_size=0.33, random_state=42)"
   ]
  },
  {
   "cell_type": "code",
   "execution_count": 109,
   "id": "137332ca",
   "metadata": {
    "ExecuteTime": {
     "end_time": "2022-06-27T16:42:04.430490Z",
     "start_time": "2022-06-27T16:42:04.421502Z"
    }
   },
   "outputs": [
    {
     "data": {
      "text/plain": [
       "array([[ 0.00000000e+00,  6.06920257e-01,  2.32227992e-01, ...,\n",
       "         7.82069465e-01,  1.33335063e+00,  3.08864557e+00],\n",
       "       [-7.56223011e-04,  6.61072334e-01,  2.84808716e-01, ...,\n",
       "         7.81301471e-01,  1.33264674e+00,  3.08932025e+00],\n",
       "       [-1.00829677e-03,  6.95045802e-01,  2.31624637e-01, ...,\n",
       "         7.80534490e-01,  1.33194379e+00,  3.08999405e+00],\n",
       "       ...,\n",
       "       [-6.09096583e-03,  6.58960084e-01,  4.09812624e-02, ...,\n",
       "         5.55342074e-01, -3.20383060e-02,  2.06508946e+00],\n",
       "       [-6.05997608e-03,  7.11794022e-01,  1.41490679e-02, ...,\n",
       "         5.56984287e-01, -3.20383060e-02,  2.06975345e+00],\n",
       "       [-6.02692787e-03,  1.25205081e+00,  7.10418230e-02, ...,\n",
       "         5.58624333e-01, -3.20383060e-02,  2.07441129e+00]])"
      ]
     },
     "execution_count": 109,
     "metadata": {},
     "output_type": "execute_result"
    }
   ],
   "source": [
    "X"
   ]
  },
  {
   "cell_type": "code",
   "execution_count": 116,
   "id": "8ef763c2",
   "metadata": {
    "ExecuteTime": {
     "end_time": "2022-06-27T16:42:25.179723Z",
     "start_time": "2022-06-27T16:42:25.161724Z"
    }
   },
   "outputs": [
    {
     "data": {
      "text/plain": [
       "Lasso(alpha=0.01)"
      ]
     },
     "execution_count": 116,
     "metadata": {},
     "output_type": "execute_result"
    }
   ],
   "source": [
    "model = Lasso(alpha =0.01)\n",
    "model.fit(X_test,y_test)\n",
    "# y_pred = model.predict(X_test)"
   ]
  },
  {
   "cell_type": "code",
   "execution_count": 117,
   "id": "3fd5f015",
   "metadata": {
    "ExecuteTime": {
     "end_time": "2022-06-27T16:42:25.663894Z",
     "start_time": "2022-06-27T16:42:25.645865Z"
    }
   },
   "outputs": [
    {
     "data": {
      "text/plain": [
       "array([ 0.        , -0.00034014, -0.        ,  0.        , -0.        ,\n",
       "       -0.        , -0.        ,  0.        , -0.        ,  0.        ,\n",
       "       -0.        , -0.        , -0.        , -0.        , -0.        ,\n",
       "       -0.        , -0.        ,  0.        , -0.        , -0.        ,\n",
       "       -0.        , -0.        , -0.        ,  0.        ,  0.        ,\n",
       "        0.        , -0.        ,  0.        ,  0.        ,  0.        ,\n",
       "        0.        , -0.        ,  0.        ,  0.        , -0.        ,\n",
       "       -0.00043311, -0.        , -0.        , -0.        ])"
      ]
     },
     "execution_count": 117,
     "metadata": {},
     "output_type": "execute_result"
    }
   ],
   "source": [
    "model.coef_"
   ]
  },
  {
   "cell_type": "markdown",
   "id": "8fdec260",
   "metadata": {},
   "source": [
    "## ACF/PACF "
   ]
  },
  {
   "cell_type": "code",
   "execution_count": 23,
   "id": "1c8da891",
   "metadata": {
    "ExecuteTime": {
     "end_time": "2022-06-21T10:46:43.976014Z",
     "start_time": "2022-06-21T10:46:43.963015Z"
    }
   },
   "outputs": [],
   "source": [
    "df_target = df_target[df_target['date'] >= '2015-01-05'].reset_index(drop=True)"
   ]
  },
  {
   "cell_type": "code",
   "execution_count": 34,
   "id": "16503b6c",
   "metadata": {
    "ExecuteTime": {
     "end_time": "2022-06-21T11:34:37.187568Z",
     "start_time": "2022-06-21T11:34:37.166513Z"
    }
   },
   "outputs": [
    {
     "data": {
      "text/html": [
       "<div>\n",
       "<style scoped>\n",
       "    .dataframe tbody tr th:only-of-type {\n",
       "        vertical-align: middle;\n",
       "    }\n",
       "\n",
       "    .dataframe tbody tr th {\n",
       "        vertical-align: top;\n",
       "    }\n",
       "\n",
       "    .dataframe thead th {\n",
       "        text-align: right;\n",
       "    }\n",
       "</style>\n",
       "<table border=\"1\" class=\"dataframe\">\n",
       "  <thead>\n",
       "    <tr style=\"text-align: right;\">\n",
       "      <th></th>\n",
       "      <th>date</th>\n",
       "      <th>y</th>\n",
       "    </tr>\n",
       "  </thead>\n",
       "  <tbody>\n",
       "    <tr>\n",
       "      <th>0</th>\n",
       "      <td>2015-01-05</td>\n",
       "      <td>0.04</td>\n",
       "    </tr>\n",
       "    <tr>\n",
       "      <th>1</th>\n",
       "      <td>2015-01-06</td>\n",
       "      <td>0.06</td>\n",
       "    </tr>\n",
       "    <tr>\n",
       "      <th>2</th>\n",
       "      <td>2015-01-07</td>\n",
       "      <td>0.05</td>\n",
       "    </tr>\n",
       "    <tr>\n",
       "      <th>3</th>\n",
       "      <td>2015-01-08</td>\n",
       "      <td>0.03</td>\n",
       "    </tr>\n",
       "    <tr>\n",
       "      <th>4</th>\n",
       "      <td>2015-01-09</td>\n",
       "      <td>0.01</td>\n",
       "    </tr>\n",
       "    <tr>\n",
       "      <th>...</th>\n",
       "      <td>...</td>\n",
       "      <td>...</td>\n",
       "    </tr>\n",
       "    <tr>\n",
       "      <th>1862</th>\n",
       "      <td>2022-02-23</td>\n",
       "      <td>0.08</td>\n",
       "    </tr>\n",
       "    <tr>\n",
       "      <th>1863</th>\n",
       "      <td>2022-02-24</td>\n",
       "      <td>0.04</td>\n",
       "    </tr>\n",
       "    <tr>\n",
       "      <th>1864</th>\n",
       "      <td>2022-02-25</td>\n",
       "      <td>0.01</td>\n",
       "    </tr>\n",
       "    <tr>\n",
       "      <th>1865</th>\n",
       "      <td>2022-02-28</td>\n",
       "      <td>0.04</td>\n",
       "    </tr>\n",
       "    <tr>\n",
       "      <th>1866</th>\n",
       "      <td>2022-03-01</td>\n",
       "      <td>-0.01</td>\n",
       "    </tr>\n",
       "  </tbody>\n",
       "</table>\n",
       "<p>1867 rows × 2 columns</p>\n",
       "</div>"
      ],
      "text/plain": [
       "            date     y\n",
       "0     2015-01-05  0.04\n",
       "1     2015-01-06  0.06\n",
       "2     2015-01-07  0.05\n",
       "3     2015-01-08  0.03\n",
       "4     2015-01-09  0.01\n",
       "...          ...   ...\n",
       "1862  2022-02-23  0.08\n",
       "1863  2022-02-24  0.04\n",
       "1864  2022-02-25  0.01\n",
       "1865  2022-02-28  0.04\n",
       "1866  2022-03-01 -0.01\n",
       "\n",
       "[1867 rows x 2 columns]"
      ]
     },
     "execution_count": 34,
     "metadata": {},
     "output_type": "execute_result"
    }
   ],
   "source": [
    "df_target"
   ]
  },
  {
   "cell_type": "code",
   "execution_count": 35,
   "id": "371649b5",
   "metadata": {
    "ExecuteTime": {
     "end_time": "2022-06-21T11:36:31.982248Z",
     "start_time": "2022-06-21T11:36:31.958298Z"
    }
   },
   "outputs": [
    {
     "data": {
      "text/html": [
       "<div>\n",
       "<style scoped>\n",
       "    .dataframe tbody tr th:only-of-type {\n",
       "        vertical-align: middle;\n",
       "    }\n",
       "\n",
       "    .dataframe tbody tr th {\n",
       "        vertical-align: top;\n",
       "    }\n",
       "\n",
       "    .dataframe thead th {\n",
       "        text-align: right;\n",
       "    }\n",
       "</style>\n",
       "<table border=\"1\" class=\"dataframe\">\n",
       "  <thead>\n",
       "    <tr style=\"text-align: right;\">\n",
       "      <th></th>\n",
       "      <th>date</th>\n",
       "      <th>y</th>\n",
       "    </tr>\n",
       "  </thead>\n",
       "  <tbody>\n",
       "    <tr>\n",
       "      <th>0</th>\n",
       "      <td>2015-01-05</td>\n",
       "      <td>0.04</td>\n",
       "    </tr>\n",
       "    <tr>\n",
       "      <th>1</th>\n",
       "      <td>2015-01-06</td>\n",
       "      <td>0.06</td>\n",
       "    </tr>\n",
       "    <tr>\n",
       "      <th>2</th>\n",
       "      <td>2015-01-07</td>\n",
       "      <td>0.05</td>\n",
       "    </tr>\n",
       "    <tr>\n",
       "      <th>3</th>\n",
       "      <td>2015-01-08</td>\n",
       "      <td>0.03</td>\n",
       "    </tr>\n",
       "    <tr>\n",
       "      <th>4</th>\n",
       "      <td>2015-01-09</td>\n",
       "      <td>0.01</td>\n",
       "    </tr>\n",
       "    <tr>\n",
       "      <th>...</th>\n",
       "      <td>...</td>\n",
       "      <td>...</td>\n",
       "    </tr>\n",
       "    <tr>\n",
       "      <th>1862</th>\n",
       "      <td>2022-02-23</td>\n",
       "      <td>0.08</td>\n",
       "    </tr>\n",
       "    <tr>\n",
       "      <th>1863</th>\n",
       "      <td>2022-02-24</td>\n",
       "      <td>0.04</td>\n",
       "    </tr>\n",
       "    <tr>\n",
       "      <th>1864</th>\n",
       "      <td>2022-02-25</td>\n",
       "      <td>0.01</td>\n",
       "    </tr>\n",
       "    <tr>\n",
       "      <th>1865</th>\n",
       "      <td>2022-02-28</td>\n",
       "      <td>0.04</td>\n",
       "    </tr>\n",
       "    <tr>\n",
       "      <th>1866</th>\n",
       "      <td>2022-03-01</td>\n",
       "      <td>-0.01</td>\n",
       "    </tr>\n",
       "  </tbody>\n",
       "</table>\n",
       "<p>1867 rows × 2 columns</p>\n",
       "</div>"
      ],
      "text/plain": [
       "            date     y\n",
       "0     2015-01-05  0.04\n",
       "1     2015-01-06  0.06\n",
       "2     2015-01-07  0.05\n",
       "3     2015-01-08  0.03\n",
       "4     2015-01-09  0.01\n",
       "...          ...   ...\n",
       "1862  2022-02-23  0.08\n",
       "1863  2022-02-24  0.04\n",
       "1864  2022-02-25  0.01\n",
       "1865  2022-02-28  0.04\n",
       "1866  2022-03-01 -0.01\n",
       "\n",
       "[1867 rows x 2 columns]"
      ]
     },
     "execution_count": 35,
     "metadata": {},
     "output_type": "execute_result"
    }
   ],
   "source": [
    "df_target"
   ]
  },
  {
   "cell_type": "code",
   "execution_count": 16,
   "id": "2e5a71a6",
   "metadata": {
    "ExecuteTime": {
     "end_time": "2022-06-23T10:56:43.380690Z",
     "start_time": "2022-06-23T10:56:42.388566Z"
    }
   },
   "outputs": [],
   "source": [
    "from statsmodels.graphics.tsaplots import plot_acf, plot_pacf"
   ]
  },
  {
   "cell_type": "code",
   "execution_count": 39,
   "id": "912ca278",
   "metadata": {
    "ExecuteTime": {
     "end_time": "2022-06-22T21:13:01.336958Z",
     "start_time": "2022-06-22T21:13:01.328963Z"
    }
   },
   "outputs": [],
   "source": [
    "diff = df.al_lme_prices - df.al_lme_prices.shift(5)"
   ]
  },
  {
   "cell_type": "code",
   "execution_count": 40,
   "id": "7d6a0c31",
   "metadata": {
    "ExecuteTime": {
     "end_time": "2022-06-22T21:13:01.616777Z",
     "start_time": "2022-06-22T21:13:01.600805Z"
    }
   },
   "outputs": [],
   "source": [
    "diff = diff.fillna(0)"
   ]
  },
  {
   "cell_type": "code",
   "execution_count": 41,
   "id": "fe431506",
   "metadata": {
    "ExecuteTime": {
     "end_time": "2022-06-22T21:13:02.089034Z",
     "start_time": "2022-06-22T21:13:01.816035Z"
    }
   },
   "outputs": [
    {
     "data": {
      "image/png": "[encoded data removed]",
      "text/plain": [
       "<Figure size 432x288 with 1 Axes>"
      ]
     },
     "execution_count": 41,
     "metadata": {},
     "output_type": "execute_result"
    },
    {
     "data": {
      "image/png": "[encoded data removed]",
      "text/plain": [
       "<Figure size 432x288 with 1 Axes>"
      ]
     },
     "metadata": {
      "needs_background": "light"
     },
     "output_type": "display_data"
    },
    {
     "data": {
      "image/png": "[encoded data removed]",
      "text/plain": [
       "<Figure size 432x288 with 1 Axes>"
      ]
     },
     "metadata": {
      "needs_background": "light"
     },
     "output_type": "display_data"
    }
   ],
   "source": [
    "plot_acf(diff)\n",
    "plot_pacf(diff)"
   ]
  },
  {
   "cell_type": "code",
   "execution_count": 42,
   "id": "ff568e6f",
   "metadata": {
    "ExecuteTime": {
     "end_time": "2022-06-22T21:13:27.401458Z",
     "start_time": "2022-06-22T21:13:27.314458Z"
    }
   },
   "outputs": [
    {
     "data": {
      "text/plain": [
       "<AxesSubplot:>"
      ]
     },
     "execution_count": 42,
     "metadata": {},
     "output_type": "execute_result"
    },
    {
     "data": {
      "image/png": "[encoded data removed]",
      "text/plain": [
       "<Figure size 432x288 with 1 Axes>"
      ]
     },
     "metadata": {
      "needs_background": "light"
     },
     "output_type": "display_data"
    }
   ],
   "source": [
    "diff.plot()"
   ]
  },
  {
   "cell_type": "code",
   "execution_count": 10,
   "id": "fddad5dd",
   "metadata": {
    "ExecuteTime": {
     "end_time": "2022-06-22T20:29:41.985650Z",
     "start_time": "2022-06-22T20:29:41.859683Z"
    }
   },
   "outputs": [
    {
     "data": {
      "text/plain": [
       "<Figure size 432x288 with 0 Axes>"
      ]
     },
     "execution_count": 10,
     "metadata": {},
     "output_type": "execute_result"
    },
    {
     "data": {
      "image/png": "[encoded data removed]",
      "text/plain": [
       "<Figure size 432x288 with 1 Axes>"
      ]
     },
     "metadata": {
      "needs_background": "light"
     },
     "output_type": "display_data"
    },
    {
     "data": {
      "text/plain": [
       "<Figure size 432x288 with 0 Axes>"
      ]
     },
     "metadata": {},
     "output_type": "display_data"
    }
   ],
   "source": [
    "plot_acf(df_target['y'])\n",
    "plt.figure()"
   ]
  },
  {
   "cell_type": "code",
   "execution_count": 8,
   "id": "7b11fe72",
   "metadata": {
    "ExecuteTime": {
     "end_time": "2022-06-21T11:44:08.689896Z",
     "start_time": "2022-06-21T11:44:08.566865Z"
    },
    "scrolled": false
   },
   "outputs": [
    {
     "name": "stderr",
     "output_type": "stream",
     "text": [
      "C:\\Users\\wyic6\\anaconda3\\envs\\darts\\lib\\site-packages\\statsmodels\\graphics\\tsaplots.py:353: FutureWarning: The default method 'yw' can produce PACF values outside of the [-1,1] interval. After 0.13, the default will change tounadjusted Yule-Walker ('ywm'). You can use this method now by setting method='ywm'.\n",
      "  FutureWarning,\n"
     ]
    },
    {
     "data": {
      "text/plain": [
       "<Figure size 432x288 with 0 Axes>"
      ]
     },
     "execution_count": 8,
     "metadata": {},
     "output_type": "execute_result"
    },
    {
     "data": {
      "image/png": "[encoded data removed]",
      "text/plain": [
       "<Figure size 432x288 with 1 Axes>"
      ]
     },
     "metadata": {
      "needs_background": "light"
     },
     "output_type": "display_data"
    },
    {
     "data": {
      "text/plain": [
       "<Figure size 432x288 with 0 Axes>"
      ]
     },
     "metadata": {},
     "output_type": "display_data"
    }
   ],
   "source": [
    "plot_pacf(df_target['y'])\n",
    "plt.figure()"
   ]
  },
  {
   "cell_type": "markdown",
   "id": "151a5ca8",
   "metadata": {},
   "source": [
    "## Stationarity Check"
   ]
  },
  {
   "cell_type": "code",
   "execution_count": 22,
   "id": "c687df72",
   "metadata": {
    "ExecuteTime": {
     "end_time": "2022-06-23T10:57:45.158397Z",
     "start_time": "2022-06-23T10:57:45.154466Z"
    }
   },
   "outputs": [],
   "source": [
    "from statsmodels.tsa.stattools import adfuller\n",
    "\n",
    "def check_stationarity(series):\n",
    "    # Copied from https://machinelearningmastery.com/time-series-data-stationary-python/\n",
    "\n",
    "    result = adfuller(series.values)\n",
    "\n",
    "    print('ADF Statistic: %f' % result[0])\n",
    "    print('p-value: %f' % result[1])\n",
    "    print('Critical Values:')\n",
    "    for key, value in result[4].items():\n",
    "        print('\\t%s: %.3f' % (key, value))\n",
    "\n",
    "    if (result[1] <= 0.05) & (result[4]['5%'] > result[0]):\n",
    "        print(\"\\u001b[32mStationary\\u001b[0m\")\n",
    "    else:\n",
    "        print(\"\\x1b[31mNon-stationary\\x1b[0m\")"
   ]
  },
  {
   "cell_type": "code",
   "execution_count": 21,
   "id": "39a17ea2",
   "metadata": {
    "ExecuteTime": {
     "end_time": "2022-06-22T21:08:21.363555Z",
     "start_time": "2022-06-22T21:08:21.217644Z"
    }
   },
   "outputs": [
    {
     "name": "stdout",
     "output_type": "stream",
     "text": [
      "ADF Statistic: -7.953841\n",
      "p-value: 0.000000\n",
      "Critical Values:\n",
      "\t1%: -3.432\n",
      "\t5%: -2.862\n",
      "\t10%: -2.567\n",
      "\u001b[32mStationary\u001b[0m\n"
     ]
    }
   ],
   "source": [
    "check_stationarity(df_target['y'])"
   ]
  },
  {
   "cell_type": "code",
   "execution_count": 23,
   "id": "4e969165",
   "metadata": {
    "ExecuteTime": {
     "end_time": "2022-06-23T10:57:46.198071Z",
     "start_time": "2022-06-23T10:57:46.180097Z"
    }
   },
   "outputs": [
    {
     "name": "stdout",
     "output_type": "stream",
     "text": [
      "ADF Statistic: -12.817518\n",
      "p-value: 0.000000\n",
      "Critical Values:\n",
      "\t1%: -3.463\n",
      "\t5%: -2.876\n",
      "\t10%: -2.574\n",
      "\u001b[32mStationary\u001b[0m\n"
     ]
    }
   ],
   "source": [
    "check_stationarity(df.dropna().iloc[::22, :]['return'])"
   ]
  },
  {
   "cell_type": "code",
   "execution_count": 59,
   "id": "a3f30fc8",
   "metadata": {
    "ExecuteTime": {
     "end_time": "2022-06-22T21:35:38.723250Z",
     "start_time": "2022-06-22T21:35:38.718253Z"
    }
   },
   "outputs": [],
   "source": [
    "df = df[df['date'] >= '2021-10-01']"
   ]
  },
  {
   "cell_type": "code",
   "execution_count": 9,
   "id": "8d1ee598",
   "metadata": {
    "ExecuteTime": {
     "end_time": "2022-06-23T10:53:43.721049Z",
     "start_time": "2022-06-23T10:53:43.707049Z"
    }
   },
   "outputs": [],
   "source": [
    "df['return'] = np.log(df['al_lme_prices']).diff(22)"
   ]
  },
  {
   "cell_type": "code",
   "execution_count": 14,
   "id": "a85225be",
   "metadata": {
    "ExecuteTime": {
     "end_time": "2022-06-23T10:56:13.310287Z",
     "start_time": "2022-06-23T10:56:13.297286Z"
    }
   },
   "outputs": [
    {
     "data": {
      "text/html": [
       "<div>\n",
       "<style scoped>\n",
       "    .dataframe tbody tr th:only-of-type {\n",
       "        vertical-align: middle;\n",
       "    }\n",
       "\n",
       "    .dataframe tbody tr th {\n",
       "        vertical-align: top;\n",
       "    }\n",
       "\n",
       "    .dataframe thead th {\n",
       "        text-align: right;\n",
       "    }\n",
       "</style>\n",
       "<table border=\"1\" class=\"dataframe\">\n",
       "  <thead>\n",
       "    <tr style=\"text-align: right;\">\n",
       "      <th></th>\n",
       "      <th>date</th>\n",
       "      <th>al_lme_prices</th>\n",
       "      <th>return</th>\n",
       "    </tr>\n",
       "  </thead>\n",
       "  <tbody>\n",
       "    <tr>\n",
       "      <th>22</th>\n",
       "      <td>2005-05-30</td>\n",
       "      <td>1735.75</td>\n",
       "      <td>-0.042440</td>\n",
       "    </tr>\n",
       "    <tr>\n",
       "      <th>44</th>\n",
       "      <td>2005-06-29</td>\n",
       "      <td>1721.00</td>\n",
       "      <td>-0.008534</td>\n",
       "    </tr>\n",
       "    <tr>\n",
       "      <th>66</th>\n",
       "      <td>2005-07-29</td>\n",
       "      <td>1836.50</td>\n",
       "      <td>0.064956</td>\n",
       "    </tr>\n",
       "    <tr>\n",
       "      <th>88</th>\n",
       "      <td>2005-08-30</td>\n",
       "      <td>1853.00</td>\n",
       "      <td>0.008944</td>\n",
       "    </tr>\n",
       "    <tr>\n",
       "      <th>110</th>\n",
       "      <td>2005-09-29</td>\n",
       "      <td>1860.00</td>\n",
       "      <td>0.003771</td>\n",
       "    </tr>\n",
       "    <tr>\n",
       "      <th>...</th>\n",
       "      <td>...</td>\n",
       "      <td>...</td>\n",
       "      <td>...</td>\n",
       "    </tr>\n",
       "    <tr>\n",
       "      <th>4378</th>\n",
       "      <td>2022-02-08</td>\n",
       "      <td>3214.50</td>\n",
       "      <td>0.101497</td>\n",
       "    </tr>\n",
       "    <tr>\n",
       "      <th>4400</th>\n",
       "      <td>2022-03-10</td>\n",
       "      <td>3408.50</td>\n",
       "      <td>0.058600</td>\n",
       "    </tr>\n",
       "    <tr>\n",
       "      <th>4422</th>\n",
       "      <td>2022-04-11</td>\n",
       "      <td>3218.25</td>\n",
       "      <td>-0.057435</td>\n",
       "    </tr>\n",
       "    <tr>\n",
       "      <th>4444</th>\n",
       "      <td>2022-05-11</td>\n",
       "      <td>2745.25</td>\n",
       "      <td>-0.158966</td>\n",
       "    </tr>\n",
       "    <tr>\n",
       "      <th>4466</th>\n",
       "      <td>2022-06-10</td>\n",
       "      <td>2661.00</td>\n",
       "      <td>-0.031170</td>\n",
       "    </tr>\n",
       "  </tbody>\n",
       "</table>\n",
       "<p>203 rows × 3 columns</p>\n",
       "</div>"
      ],
      "text/plain": [
       "            date  al_lme_prices    return\n",
       "22    2005-05-30        1735.75 -0.042440\n",
       "44    2005-06-29        1721.00 -0.008534\n",
       "66    2005-07-29        1836.50  0.064956\n",
       "88    2005-08-30        1853.00  0.008944\n",
       "110   2005-09-29        1860.00  0.003771\n",
       "...          ...            ...       ...\n",
       "4378  2022-02-08        3214.50  0.101497\n",
       "4400  2022-03-10        3408.50  0.058600\n",
       "4422  2022-04-11        3218.25 -0.057435\n",
       "4444  2022-05-11        2745.25 -0.158966\n",
       "4466  2022-06-10        2661.00 -0.031170\n",
       "\n",
       "[203 rows x 3 columns]"
      ]
     },
     "execution_count": 14,
     "metadata": {},
     "output_type": "execute_result"
    }
   ],
   "source": [
    "df.dropna().iloc[::22, :]"
   ]
  },
  {
   "cell_type": "code",
   "execution_count": 10,
   "id": "a7fa3876",
   "metadata": {
    "ExecuteTime": {
     "end_time": "2022-06-23T10:53:44.169946Z",
     "start_time": "2022-06-23T10:53:44.140695Z"
    }
   },
   "outputs": [
    {
     "data": {
      "text/html": [
       "<div>\n",
       "<style scoped>\n",
       "    .dataframe tbody tr th:only-of-type {\n",
       "        vertical-align: middle;\n",
       "    }\n",
       "\n",
       "    .dataframe tbody tr th {\n",
       "        vertical-align: top;\n",
       "    }\n",
       "\n",
       "    .dataframe thead th {\n",
       "        text-align: right;\n",
       "    }\n",
       "</style>\n",
       "<table border=\"1\" class=\"dataframe\">\n",
       "  <thead>\n",
       "    <tr style=\"text-align: right;\">\n",
       "      <th></th>\n",
       "      <th>date</th>\n",
       "      <th>al_lme_prices</th>\n",
       "      <th>return</th>\n",
       "    </tr>\n",
       "  </thead>\n",
       "  <tbody>\n",
       "    <tr>\n",
       "      <th>0</th>\n",
       "      <td>2005-04-28</td>\n",
       "      <td>1811.00</td>\n",
       "      <td>NaN</td>\n",
       "    </tr>\n",
       "    <tr>\n",
       "      <th>1</th>\n",
       "      <td>2005-04-29</td>\n",
       "      <td>1819.25</td>\n",
       "      <td>NaN</td>\n",
       "    </tr>\n",
       "    <tr>\n",
       "      <th>2</th>\n",
       "      <td>2005-05-02</td>\n",
       "      <td>1819.25</td>\n",
       "      <td>NaN</td>\n",
       "    </tr>\n",
       "    <tr>\n",
       "      <th>3</th>\n",
       "      <td>2005-05-03</td>\n",
       "      <td>1784.75</td>\n",
       "      <td>NaN</td>\n",
       "    </tr>\n",
       "    <tr>\n",
       "      <th>4</th>\n",
       "      <td>2005-05-04</td>\n",
       "      <td>1753.25</td>\n",
       "      <td>NaN</td>\n",
       "    </tr>\n",
       "    <tr>\n",
       "      <th>5</th>\n",
       "      <td>2005-05-05</td>\n",
       "      <td>1764.75</td>\n",
       "      <td>NaN</td>\n",
       "    </tr>\n",
       "    <tr>\n",
       "      <th>6</th>\n",
       "      <td>2005-05-06</td>\n",
       "      <td>1757.75</td>\n",
       "      <td>NaN</td>\n",
       "    </tr>\n",
       "    <tr>\n",
       "      <th>7</th>\n",
       "      <td>2005-05-09</td>\n",
       "      <td>1773.25</td>\n",
       "      <td>NaN</td>\n",
       "    </tr>\n",
       "    <tr>\n",
       "      <th>8</th>\n",
       "      <td>2005-05-10</td>\n",
       "      <td>1774.25</td>\n",
       "      <td>NaN</td>\n",
       "    </tr>\n",
       "    <tr>\n",
       "      <th>9</th>\n",
       "      <td>2005-05-11</td>\n",
       "      <td>1747.25</td>\n",
       "      <td>NaN</td>\n",
       "    </tr>\n",
       "    <tr>\n",
       "      <th>10</th>\n",
       "      <td>2005-05-12</td>\n",
       "      <td>1742.25</td>\n",
       "      <td>NaN</td>\n",
       "    </tr>\n",
       "    <tr>\n",
       "      <th>11</th>\n",
       "      <td>2005-05-13</td>\n",
       "      <td>1709.75</td>\n",
       "      <td>NaN</td>\n",
       "    </tr>\n",
       "    <tr>\n",
       "      <th>12</th>\n",
       "      <td>2005-05-16</td>\n",
       "      <td>1703.25</td>\n",
       "      <td>NaN</td>\n",
       "    </tr>\n",
       "    <tr>\n",
       "      <th>13</th>\n",
       "      <td>2005-05-17</td>\n",
       "      <td>1722.25</td>\n",
       "      <td>NaN</td>\n",
       "    </tr>\n",
       "    <tr>\n",
       "      <th>14</th>\n",
       "      <td>2005-05-18</td>\n",
       "      <td>1734.50</td>\n",
       "      <td>NaN</td>\n",
       "    </tr>\n",
       "    <tr>\n",
       "      <th>15</th>\n",
       "      <td>2005-05-19</td>\n",
       "      <td>1728.00</td>\n",
       "      <td>NaN</td>\n",
       "    </tr>\n",
       "    <tr>\n",
       "      <th>16</th>\n",
       "      <td>2005-05-20</td>\n",
       "      <td>1716.00</td>\n",
       "      <td>NaN</td>\n",
       "    </tr>\n",
       "    <tr>\n",
       "      <th>17</th>\n",
       "      <td>2005-05-23</td>\n",
       "      <td>1728.00</td>\n",
       "      <td>NaN</td>\n",
       "    </tr>\n",
       "    <tr>\n",
       "      <th>18</th>\n",
       "      <td>2005-05-24</td>\n",
       "      <td>1735.50</td>\n",
       "      <td>NaN</td>\n",
       "    </tr>\n",
       "    <tr>\n",
       "      <th>19</th>\n",
       "      <td>2005-05-25</td>\n",
       "      <td>1742.75</td>\n",
       "      <td>NaN</td>\n",
       "    </tr>\n",
       "    <tr>\n",
       "      <th>20</th>\n",
       "      <td>2005-05-26</td>\n",
       "      <td>1745.00</td>\n",
       "      <td>NaN</td>\n",
       "    </tr>\n",
       "    <tr>\n",
       "      <th>21</th>\n",
       "      <td>2005-05-27</td>\n",
       "      <td>1735.75</td>\n",
       "      <td>NaN</td>\n",
       "    </tr>\n",
       "    <tr>\n",
       "      <th>22</th>\n",
       "      <td>2005-05-30</td>\n",
       "      <td>1735.75</td>\n",
       "      <td>-0.042440</td>\n",
       "    </tr>\n",
       "    <tr>\n",
       "      <th>23</th>\n",
       "      <td>2005-05-31</td>\n",
       "      <td>1730.75</td>\n",
       "      <td>-0.049869</td>\n",
       "    </tr>\n",
       "    <tr>\n",
       "      <th>24</th>\n",
       "      <td>2005-06-01</td>\n",
       "      <td>1736.75</td>\n",
       "      <td>-0.046409</td>\n",
       "    </tr>\n",
       "    <tr>\n",
       "      <th>25</th>\n",
       "      <td>2005-06-02</td>\n",
       "      <td>1763.00</td>\n",
       "      <td>-0.012261</td>\n",
       "    </tr>\n",
       "    <tr>\n",
       "      <th>26</th>\n",
       "      <td>2005-06-03</td>\n",
       "      <td>1779.75</td>\n",
       "      <td>0.015002</td>\n",
       "    </tr>\n",
       "    <tr>\n",
       "      <th>27</th>\n",
       "      <td>2005-06-06</td>\n",
       "      <td>1760.75</td>\n",
       "      <td>-0.002269</td>\n",
       "    </tr>\n",
       "    <tr>\n",
       "      <th>28</th>\n",
       "      <td>2005-06-07</td>\n",
       "      <td>1735.75</td>\n",
       "      <td>-0.012595</td>\n",
       "    </tr>\n",
       "    <tr>\n",
       "      <th>29</th>\n",
       "      <td>2005-06-08</td>\n",
       "      <td>1713.25</td>\n",
       "      <td>-0.034422</td>\n",
       "    </tr>\n",
       "  </tbody>\n",
       "</table>\n",
       "</div>"
      ],
      "text/plain": [
       "          date  al_lme_prices    return\n",
       "0   2005-04-28        1811.00       NaN\n",
       "1   2005-04-29        1819.25       NaN\n",
       "2   2005-05-02        1819.25       NaN\n",
       "3   2005-05-03        1784.75       NaN\n",
       "4   2005-05-04        1753.25       NaN\n",
       "5   2005-05-05        1764.75       NaN\n",
       "6   2005-05-06        1757.75       NaN\n",
       "7   2005-05-09        1773.25       NaN\n",
       "8   2005-05-10        1774.25       NaN\n",
       "9   2005-05-11        1747.25       NaN\n",
       "10  2005-05-12        1742.25       NaN\n",
       "11  2005-05-13        1709.75       NaN\n",
       "12  2005-05-16        1703.25       NaN\n",
       "13  2005-05-17        1722.25       NaN\n",
       "14  2005-05-18        1734.50       NaN\n",
       "15  2005-05-19        1728.00       NaN\n",
       "16  2005-05-20        1716.00       NaN\n",
       "17  2005-05-23        1728.00       NaN\n",
       "18  2005-05-24        1735.50       NaN\n",
       "19  2005-05-25        1742.75       NaN\n",
       "20  2005-05-26        1745.00       NaN\n",
       "21  2005-05-27        1735.75       NaN\n",
       "22  2005-05-30        1735.75 -0.042440\n",
       "23  2005-05-31        1730.75 -0.049869\n",
       "24  2005-06-01        1736.75 -0.046409\n",
       "25  2005-06-02        1763.00 -0.012261\n",
       "26  2005-06-03        1779.75  0.015002\n",
       "27  2005-06-06        1760.75 -0.002269\n",
       "28  2005-06-07        1735.75 -0.012595\n",
       "29  2005-06-08        1713.25 -0.034422"
      ]
     },
     "execution_count": 10,
     "metadata": {},
     "output_type": "execute_result"
    }
   ],
   "source": [
    "df[:30]"
   ]
  },
  {
   "cell_type": "code",
   "execution_count": 20,
   "id": "537c3b36",
   "metadata": {
    "ExecuteTime": {
     "end_time": "2022-06-23T10:57:12.742525Z",
     "start_time": "2022-06-23T10:57:12.551524Z"
    }
   },
   "outputs": [
    {
     "data": {
      "text/plain": [
       "<Figure size 432x288 with 0 Axes>"
      ]
     },
     "execution_count": 20,
     "metadata": {},
     "output_type": "execute_result"
    },
    {
     "data": {
      "image/png": "[encoded data removed]",
      "text/plain": [
       "<Figure size 432x288 with 1 Axes>"
      ]
     },
     "metadata": {
      "needs_background": "light"
     },
     "output_type": "display_data"
    },
    {
     "data": {
      "text/plain": [
       "<Figure size 432x288 with 0 Axes>"
      ]
     },
     "metadata": {},
     "output_type": "display_data"
    },
    {
     "data": {
      "image/png": "[encoded data removed]",
      "text/plain": [
       "<Figure size 432x288 with 1 Axes>"
      ]
     },
     "metadata": {
      "needs_background": "light"
     },
     "output_type": "display_data"
    },
    {
     "data": {
      "text/plain": [
       "<Figure size 432x288 with 0 Axes>"
      ]
     },
     "metadata": {},
     "output_type": "display_data"
    }
   ],
   "source": [
    "plot_acf(df.dropna().iloc[::22, :]['return'])\n",
    "plt.figure()\n",
    "plot_pacf(df.dropna().iloc[::22, :]['return'])\n",
    "plt.figure()"
   ]
  },
  {
   "cell_type": "code",
   "execution_count": null,
   "id": "8d03c41a",
   "metadata": {},
   "outputs": [],
   "source": [
    "plot_acf(df['return'].dropna())"
   ]
  },
  {
   "cell_type": "code",
   "execution_count": null,
   "id": "9afbbe08",
   "metadata": {},
   "outputs": [],
   "source": []
  },
  {
   "cell_type": "code",
   "execution_count": 60,
   "id": "e9a56ee9",
   "metadata": {
    "ExecuteTime": {
     "end_time": "2022-06-25T23:18:23.983529Z",
     "start_time": "2022-06-25T23:18:23.904917Z"
    }
   },
   "outputs": [
    {
     "data": {
      "text/html": [
       "<div>\n",
       "<style scoped>\n",
       "    .dataframe tbody tr th:only-of-type {\n",
       "        vertical-align: middle;\n",
       "    }\n",
       "\n",
       "    .dataframe tbody tr th {\n",
       "        vertical-align: top;\n",
       "    }\n",
       "\n",
       "    .dataframe thead th {\n",
       "        text-align: right;\n",
       "    }\n",
       "</style>\n",
       "<table border=\"1\" class=\"dataframe\">\n",
       "  <thead>\n",
       "    <tr style=\"text-align: right;\">\n",
       "      <th></th>\n",
       "      <th>date</th>\n",
       "      <th>FeatureFamily.COT</th>\n",
       "      <th>FeatureFamily.COT.1</th>\n",
       "      <th>FeatureFamily.CTA</th>\n",
       "      <th>FeatureFamily.CTA.1</th>\n",
       "      <th>FeatureFamily.CURVE</th>\n",
       "      <th>FeatureFamily.CURVE.1</th>\n",
       "      <th>FeatureFamily.CURVE.2</th>\n",
       "      <th>FeatureFamily.CURRENCY</th>\n",
       "      <th>FeatureFamily.CURRENCY.1</th>\n",
       "      <th>...</th>\n",
       "      <th>FeatureFamily.MACRO.13</th>\n",
       "      <th>FeatureFamily.MACRO.14</th>\n",
       "      <th>FeatureFamily.MACRO.15</th>\n",
       "      <th>FeatureFamily.MACRO.16</th>\n",
       "      <th>FeatureFamily.MACRO.17</th>\n",
       "      <th>FeatureFamily.MACRO.18</th>\n",
       "      <th>FeatureFamily.MACRO.19</th>\n",
       "      <th>FeatureFamily.MACRO.20</th>\n",
       "      <th>FeatureFamily.MACRO.21</th>\n",
       "      <th>FeatureFamily.TECHNICAL</th>\n",
       "    </tr>\n",
       "  </thead>\n",
       "  <tbody>\n",
       "    <tr>\n",
       "      <th>0</th>\n",
       "      <td>2005-04-28</td>\n",
       "      <td>NaN</td>\n",
       "      <td>NaN</td>\n",
       "      <td>NaN</td>\n",
       "      <td>NaN</td>\n",
       "      <td>0.0</td>\n",
       "      <td>NaN</td>\n",
       "      <td>NaN</td>\n",
       "      <td>0.6069202570021998</td>\n",
       "      <td>0.2322279922499444</td>\n",
       "      <td>...</td>\n",
       "      <td>-0.0007381919590994437</td>\n",
       "      <td>NaN</td>\n",
       "      <td>NaN</td>\n",
       "      <td>NaN</td>\n",
       "      <td>NaN</td>\n",
       "      <td>9.47341552147084</td>\n",
       "      <td>0.7820694646731705</td>\n",
       "      <td>1.3333506268986668</td>\n",
       "      <td>3.0886455675264073</td>\n",
       "      <td>NaN</td>\n",
       "    </tr>\n",
       "    <tr>\n",
       "      <th>1</th>\n",
       "      <td>2005-04-29</td>\n",
       "      <td>NaN</td>\n",
       "      <td>NaN</td>\n",
       "      <td>NaN</td>\n",
       "      <td>NaN</td>\n",
       "      <td>-0.0007562230112932725</td>\n",
       "      <td>NaN</td>\n",
       "      <td>NaN</td>\n",
       "      <td>0.6610723335007147</td>\n",
       "      <td>0.28480871564721333</td>\n",
       "      <td>...</td>\n",
       "      <td>-0.0008573614266775175</td>\n",
       "      <td>NaN</td>\n",
       "      <td>NaN</td>\n",
       "      <td>NaN</td>\n",
       "      <td>NaN</td>\n",
       "      <td>9.475440009019486</td>\n",
       "      <td>0.7813014707791271</td>\n",
       "      <td>1.3326467436822265</td>\n",
       "      <td>3.089320253249175</td>\n",
       "      <td>0.0</td>\n",
       "    </tr>\n",
       "    <tr>\n",
       "      <th>2</th>\n",
       "      <td>2005-05-02</td>\n",
       "      <td>NaN</td>\n",
       "      <td>NaN</td>\n",
       "      <td>NaN</td>\n",
       "      <td>NaN</td>\n",
       "      <td>-0.0010082967735261061</td>\n",
       "      <td>NaN</td>\n",
       "      <td>NaN</td>\n",
       "      <td>0.6950458019717398</td>\n",
       "      <td>0.23162463711330347</td>\n",
       "      <td>...</td>\n",
       "      <td>-0.0008468223795314007</td>\n",
       "      <td>NaN</td>\n",
       "      <td>NaN</td>\n",
       "      <td>NaN</td>\n",
       "      <td>NaN</td>\n",
       "      <td>9.477461798145415</td>\n",
       "      <td>0.7805344901993787</td>\n",
       "      <td>1.3319437896387103</td>\n",
       "      <td>3.0899940487854165</td>\n",
       "      <td>-2.285142739035309e-07</td>\n",
       "    </tr>\n",
       "    <tr>\n",
       "      <th>3</th>\n",
       "      <td>2005-05-03</td>\n",
       "      <td>NaN</td>\n",
       "      <td>NaN</td>\n",
       "      <td>NaN</td>\n",
       "      <td>NaN</td>\n",
       "      <td>-0.0019127215692048424</td>\n",
       "      <td>NaN</td>\n",
       "      <td>NaN</td>\n",
       "      <td>0.6910810869511393</td>\n",
       "      <td>0.21712230986279332</td>\n",
       "      <td>...</td>\n",
       "      <td>-0.0008365258665375895</td>\n",
       "      <td>NaN</td>\n",
       "      <td>NaN</td>\n",
       "      <td>NaN</td>\n",
       "      <td>NaN</td>\n",
       "      <td>9.479480892481481</td>\n",
       "      <td>0.7797685215969066</td>\n",
       "      <td>1.3312417635409377</td>\n",
       "      <td>3.0906669553096515</td>\n",
       "      <td>-1.589134606998048e-06</td>\n",
       "    </tr>\n",
       "    <tr>\n",
       "      <th>4</th>\n",
       "      <td>2005-05-04</td>\n",
       "      <td>NaN</td>\n",
       "      <td>NaN</td>\n",
       "      <td>NaN</td>\n",
       "      <td>NaN</td>\n",
       "      <td>-0.002984943173659976</td>\n",
       "      <td>NaN</td>\n",
       "      <td>NaN</td>\n",
       "      <td>0.19749900828710665</td>\n",
       "      <td>0.14626368419598876</td>\n",
       "      <td>...</td>\n",
       "      <td>-0.0008264636194786799</td>\n",
       "      <td>NaN</td>\n",
       "      <td>NaN</td>\n",
       "      <td>NaN</td>\n",
       "      <td>NaN</td>\n",
       "      <td>9.481497295655553</td>\n",
       "      <td>0.7790035636364563</td>\n",
       "      <td>1.3305406641633502</td>\n",
       "      <td>3.091338973994852</td>\n",
       "      <td>-2.166072617243442e-06</td>\n",
       "    </tr>\n",
       "    <tr>\n",
       "      <th>...</th>\n",
       "      <td>...</td>\n",
       "      <td>...</td>\n",
       "      <td>...</td>\n",
       "      <td>...</td>\n",
       "      <td>...</td>\n",
       "      <td>...</td>\n",
       "      <td>...</td>\n",
       "      <td>...</td>\n",
       "      <td>...</td>\n",
       "      <td>...</td>\n",
       "      <td>...</td>\n",
       "      <td>...</td>\n",
       "      <td>...</td>\n",
       "      <td>...</td>\n",
       "      <td>...</td>\n",
       "      <td>...</td>\n",
       "      <td>...</td>\n",
       "      <td>...</td>\n",
       "      <td>...</td>\n",
       "      <td>...</td>\n",
       "      <td>...</td>\n",
       "    </tr>\n",
       "    <tr>\n",
       "      <th>4389</th>\n",
       "      <td>2022-02-23</td>\n",
       "      <td>-0.724644240561606</td>\n",
       "      <td>0.07768135087833393</td>\n",
       "      <td>0.4173965177870701</td>\n",
       "      <td>0.4417710253890018</td>\n",
       "      <td>-0.006176561045793125</td>\n",
       "      <td>0.00014110607633679444</td>\n",
       "      <td>0.0054917607241385955</td>\n",
       "      <td>0.36317771789039915</td>\n",
       "      <td>0.06870054848317501</td>\n",
       "      <td>...</td>\n",
       "      <td>0.00017647577334217802</td>\n",
       "      <td>-0.00029114108012461503</td>\n",
       "      <td>0.000170078908520732</td>\n",
       "      <td>0.00028842149822282256</td>\n",
       "      <td>-3.05348668169073e-05</td>\n",
       "      <td>6.441375250429994</td>\n",
       "      <td>0.552051135634594</td>\n",
       "      <td>-0.03203830599747443</td>\n",
       "      <td>2.055742981215075</td>\n",
       "      <td>4.937318342943171e-05</td>\n",
       "    </tr>\n",
       "    <tr>\n",
       "      <th>4390</th>\n",
       "      <td>2022-02-24</td>\n",
       "      <td>-0.7253728166954967</td>\n",
       "      <td>0.077603343155349</td>\n",
       "      <td>0.41280402778782616</td>\n",
       "      <td>0.4355881872565027</td>\n",
       "      <td>-0.006129443703284178</td>\n",
       "      <td>0.00014858933675312785</td>\n",
       "      <td>0.005473861819523739</td>\n",
       "      <td>1.1138983124388913</td>\n",
       "      <td>0.13577198056434503</td>\n",
       "      <td>...</td>\n",
       "      <td>0.00014914400149619074</td>\n",
       "      <td>-0.00025345303130112565</td>\n",
       "      <td>0.00016982972393570379</td>\n",
       "      <td>0.0002869444153071202</td>\n",
       "      <td>-3.0456455703925866e-05</td>\n",
       "      <td>6.438154027697224</td>\n",
       "      <td>0.5536976908339345</td>\n",
       "      <td>-0.03203830599747443</td>\n",
       "      <td>2.060419306381441</td>\n",
       "      <td>5.574933574333061e-05</td>\n",
       "    </tr>\n",
       "    <tr>\n",
       "      <th>4391</th>\n",
       "      <td>2022-02-25</td>\n",
       "      <td>-0.7260994405605931</td>\n",
       "      <td>0.07759744114086506</td>\n",
       "      <td>0.4110919542331751</td>\n",
       "      <td>0.4345353172232314</td>\n",
       "      <td>-0.006090965827736937</td>\n",
       "      <td>0.0001488727326069277</td>\n",
       "      <td>0.005457109245001624</td>\n",
       "      <td>0.6589600838031493</td>\n",
       "      <td>0.04098126237919003</td>\n",
       "      <td>...</td>\n",
       "      <td>0.0001617675633830945</td>\n",
       "      <td>-0.0002206436791683051</td>\n",
       "      <td>0.00016958090615537582</td>\n",
       "      <td>0.0002854748969244625</td>\n",
       "      <td>-3.0378246257392675e-05</td>\n",
       "      <td>6.434937055206741</td>\n",
       "      <td>0.5553420735531619</td>\n",
       "      <td>-0.03203830599747443</td>\n",
       "      <td>2.06508946156156</td>\n",
       "      <td>5.246848657891579e-05</td>\n",
       "    </tr>\n",
       "    <tr>\n",
       "      <th>4392</th>\n",
       "      <td>2022-02-28</td>\n",
       "      <td>-0.7268241175175817</td>\n",
       "      <td>0.07759157994482307</td>\n",
       "      <td>0.40992192854996695</td>\n",
       "      <td>0.4338862520270917</td>\n",
       "      <td>-0.006059976078138403</td>\n",
       "      <td>0.0001432956284093842</td>\n",
       "      <td>0.005442048885085476</td>\n",
       "      <td>0.7117940221125941</td>\n",
       "      <td>0.014149067925510886</td>\n",
       "      <td>...</td>\n",
       "      <td>0.00016392963631020843</td>\n",
       "      <td>0.0031907093595169396</td>\n",
       "      <td>0.00012008104856443643</td>\n",
       "      <td>0.00012202450792880543</td>\n",
       "      <td>8.384744577370067e-05</td>\n",
       "      <td>6.43172432735039</td>\n",
       "      <td>0.5569842866586666</td>\n",
       "      <td>-0.03203830599747443</td>\n",
       "      <td>2.0697534548961687</td>\n",
       "      <td>5.214685620488183e-05</td>\n",
       "    </tr>\n",
       "    <tr>\n",
       "      <th>4393</th>\n",
       "      <td>2022-03-01</td>\n",
       "      <td>-0.7275468529117449</td>\n",
       "      <td>0.077585759284577</td>\n",
       "      <td>0.40515029219885196</td>\n",
       "      <td>0.42625349284396746</td>\n",
       "      <td>-0.0060269278672275125</td>\n",
       "      <td>0.00013961243546453886</td>\n",
       "      <td>0.005429558861158578</td>\n",
       "      <td>1.2520508135395343</td>\n",
       "      <td>0.0710418229756478</td>\n",
       "      <td>...</td>\n",
       "      <td>0.0001746519094977819</td>\n",
       "      <td>0.002777673830241687</td>\n",
       "      <td>0.00011990512007116946</td>\n",
       "      <td>0.00012139958809082123</td>\n",
       "      <td>8.363213476984592e-05</td>\n",
       "      <td>6.4285158385274155</td>\n",
       "      <td>0.5586243330130571</td>\n",
       "      <td>-0.03203830599747443</td>\n",
       "      <td>2.074411294515262</td>\n",
       "      <td>5.83157698231182e-05</td>\n",
       "    </tr>\n",
       "  </tbody>\n",
       "</table>\n",
       "<p>4394 rows × 76 columns</p>\n",
       "</div>"
      ],
      "text/plain": [
       "            date    FeatureFamily.COT  FeatureFamily.COT.1  \\\n",
       "0     2005-04-28                  NaN                  NaN   \n",
       "1     2005-04-29                  NaN                  NaN   \n",
       "2     2005-05-02                  NaN                  NaN   \n",
       "3     2005-05-03                  NaN                  NaN   \n",
       "4     2005-05-04                  NaN                  NaN   \n",
       "...          ...                  ...                  ...   \n",
       "4389  2022-02-23   -0.724644240561606  0.07768135087833393   \n",
       "4390  2022-02-24  -0.7253728166954967    0.077603343155349   \n",
       "4391  2022-02-25  -0.7260994405605931  0.07759744114086506   \n",
       "4392  2022-02-28  -0.7268241175175817  0.07759157994482307   \n",
       "4393  2022-03-01  -0.7275468529117449    0.077585759284577   \n",
       "\n",
       "        FeatureFamily.CTA  FeatureFamily.CTA.1     FeatureFamily.CURVE  \\\n",
       "0                     NaN                  NaN                     0.0   \n",
       "1                     NaN                  NaN  -0.0007562230112932725   \n",
       "2                     NaN                  NaN  -0.0010082967735261061   \n",
       "3                     NaN                  NaN  -0.0019127215692048424   \n",
       "4                     NaN                  NaN   -0.002984943173659976   \n",
       "...                   ...                  ...                     ...   \n",
       "4389   0.4173965177870701   0.4417710253890018   -0.006176561045793125   \n",
       "4390  0.41280402778782616   0.4355881872565027   -0.006129443703284178   \n",
       "4391   0.4110919542331751   0.4345353172232314   -0.006090965827736937   \n",
       "4392  0.40992192854996695   0.4338862520270917   -0.006059976078138403   \n",
       "4393  0.40515029219885196  0.42625349284396746  -0.0060269278672275125   \n",
       "\n",
       "       FeatureFamily.CURVE.1  FeatureFamily.CURVE.2 FeatureFamily.CURRENCY  \\\n",
       "0                        NaN                    NaN     0.6069202570021998   \n",
       "1                        NaN                    NaN     0.6610723335007147   \n",
       "2                        NaN                    NaN     0.6950458019717398   \n",
       "3                        NaN                    NaN     0.6910810869511393   \n",
       "4                        NaN                    NaN    0.19749900828710665   \n",
       "...                      ...                    ...                    ...   \n",
       "4389  0.00014110607633679444  0.0054917607241385955    0.36317771789039915   \n",
       "4390  0.00014858933675312785   0.005473861819523739     1.1138983124388913   \n",
       "4391   0.0001488727326069277   0.005457109245001624     0.6589600838031493   \n",
       "4392   0.0001432956284093842   0.005442048885085476     0.7117940221125941   \n",
       "4393  0.00013961243546453886   0.005429558861158578     1.2520508135395343   \n",
       "\n",
       "     FeatureFamily.CURRENCY.1  ...  FeatureFamily.MACRO.13  \\\n",
       "0          0.2322279922499444  ...  -0.0007381919590994437   \n",
       "1         0.28480871564721333  ...  -0.0008573614266775175   \n",
       "2         0.23162463711330347  ...  -0.0008468223795314007   \n",
       "3         0.21712230986279332  ...  -0.0008365258665375895   \n",
       "4         0.14626368419598876  ...  -0.0008264636194786799   \n",
       "...                       ...  ...                     ...   \n",
       "4389      0.06870054848317501  ...  0.00017647577334217802   \n",
       "4390      0.13577198056434503  ...  0.00014914400149619074   \n",
       "4391      0.04098126237919003  ...   0.0001617675633830945   \n",
       "4392     0.014149067925510886  ...  0.00016392963631020843   \n",
       "4393       0.0710418229756478  ...   0.0001746519094977819   \n",
       "\n",
       "       FeatureFamily.MACRO.14  FeatureFamily.MACRO.15  FeatureFamily.MACRO.16  \\\n",
       "0                         NaN                     NaN                     NaN   \n",
       "1                         NaN                     NaN                     NaN   \n",
       "2                         NaN                     NaN                     NaN   \n",
       "3                         NaN                     NaN                     NaN   \n",
       "4                         NaN                     NaN                     NaN   \n",
       "...                       ...                     ...                     ...   \n",
       "4389  -0.00029114108012461503    0.000170078908520732  0.00028842149822282256   \n",
       "4390  -0.00025345303130112565  0.00016982972393570379   0.0002869444153071202   \n",
       "4391   -0.0002206436791683051  0.00016958090615537582   0.0002854748969244625   \n",
       "4392    0.0031907093595169396  0.00012008104856443643  0.00012202450792880543   \n",
       "4393     0.002777673830241687  0.00011990512007116946  0.00012139958809082123   \n",
       "\n",
       "       FeatureFamily.MACRO.17 FeatureFamily.MACRO.18 FeatureFamily.MACRO.19  \\\n",
       "0                         NaN       9.47341552147084     0.7820694646731705   \n",
       "1                         NaN      9.475440009019486     0.7813014707791271   \n",
       "2                         NaN      9.477461798145415     0.7805344901993787   \n",
       "3                         NaN      9.479480892481481     0.7797685215969066   \n",
       "4                         NaN      9.481497295655553     0.7790035636364563   \n",
       "...                       ...                    ...                    ...   \n",
       "4389    -3.05348668169073e-05      6.441375250429994      0.552051135634594   \n",
       "4390  -3.0456455703925866e-05      6.438154027697224     0.5536976908339345   \n",
       "4391  -3.0378246257392675e-05      6.434937055206741     0.5553420735531619   \n",
       "4392    8.384744577370067e-05       6.43172432735039     0.5569842866586666   \n",
       "4393    8.363213476984592e-05     6.4285158385274155     0.5586243330130571   \n",
       "\n",
       "     FeatureFamily.MACRO.20 FeatureFamily.MACRO.21 FeatureFamily.TECHNICAL  \n",
       "0        1.3333506268986668     3.0886455675264073                     NaN  \n",
       "1        1.3326467436822265      3.089320253249175                     0.0  \n",
       "2        1.3319437896387103     3.0899940487854165  -2.285142739035309e-07  \n",
       "3        1.3312417635409377     3.0906669553096515  -1.589134606998048e-06  \n",
       "4        1.3305406641633502      3.091338973994852  -2.166072617243442e-06  \n",
       "...                     ...                    ...                     ...  \n",
       "4389   -0.03203830599747443      2.055742981215075   4.937318342943171e-05  \n",
       "4390   -0.03203830599747443      2.060419306381441   5.574933574333061e-05  \n",
       "4391   -0.03203830599747443       2.06508946156156   5.246848657891579e-05  \n",
       "4392   -0.03203830599747443     2.0697534548961687   5.214685620488183e-05  \n",
       "4393   -0.03203830599747443      2.074411294515262    5.83157698231182e-05  \n",
       "\n",
       "[4394 rows x 76 columns]"
      ]
     },
     "execution_count": 60,
     "metadata": {},
     "output_type": "execute_result"
    }
   ],
   "source": [
    "df"
   ]
  },
  {
   "cell_type": "code",
   "execution_count": 61,
   "id": "b9d660b6",
   "metadata": {
    "ExecuteTime": {
     "end_time": "2022-06-25T23:18:34.623183Z",
     "start_time": "2022-06-25T23:18:34.608183Z"
    }
   },
   "outputs": [
    {
     "data": {
      "text/plain": [
       "880"
      ]
     },
     "execution_count": 61,
     "metadata": {},
     "output_type": "execute_result"
    }
   ],
   "source": [
    "4400//5"
   ]
  },
  {
   "cell_type": "code",
   "execution_count": null,
   "id": "a1433764",
   "metadata": {},
   "outputs": [],
   "source": [
    "500"
   ]
  }
 ],
 "metadata": {
  "kernelspec": {
   "display_name": "Python 3 (ipykernel)",
   "language": "python",
   "name": "python3"
  },
  "language_info": {
   "codemirror_mode": {
    "name": "ipython",
    "version": 3
   },
   "file_extension": ".py",
   "mimetype": "text/x-python",
   "name": "python",
   "nbconvert_exporter": "python",
   "pygments_lexer": "ipython3",
   "version": "3.7.13"
  },
  "toc": {
   "base_numbering": 1,
   "nav_menu": {},
   "number_sections": false,
   "sideBar": true,
   "skip_h1_title": false,
   "title_cell": "Table of Contents",
   "title_sidebar": "Contents",
   "toc_cell": false,
   "toc_position": {
    "height": "calc(100% - 180px)",
    "left": "10px",
    "top": "150px",
    "width": "384px"
   },
   "toc_section_display": true,
   "toc_window_display": false
  }
 },
 "nbformat": 4,
 "nbformat_minor": 5
}
