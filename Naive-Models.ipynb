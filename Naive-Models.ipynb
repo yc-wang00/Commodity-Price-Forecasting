{
 "cells": [
  {
   "cell_type": "markdown",
   "id": "a488fe4a",
   "metadata": {},
   "source": [
    "# Naive Models"
   ]
  },
  {
   "cell_type": "code",
   "execution_count": 1,
   "id": "70ea1525",
   "metadata": {
    "ExecuteTime": {
     "end_time": "2022-07-01T22:08:46.989353Z",
     "start_time": "2022-07-01T22:08:45.654498Z"
    }
   },
   "outputs": [],
   "source": [
    "import pandas as pd\n",
    "import numpy as np\n",
    "import matplotlib.pyplot as plt  \n",
    "import seaborn as seabornInstance \n",
    "from utils import eval_model\n",
    "\n",
    "import warnings\n",
    "warnings.filterwarnings('ignore')\n",
    "%matplotlib inline"
   ]
  },
  {
   "cell_type": "code",
   "execution_count": 2,
   "id": "536a35ee",
   "metadata": {
    "ExecuteTime": {
     "end_time": "2022-07-01T22:08:47.036613Z",
     "start_time": "2022-07-01T22:08:46.991327Z"
    }
   },
   "outputs": [],
   "source": [
    "df = pd.read_csv('2005-2022-test.csv')"
   ]
  },
  {
   "cell_type": "markdown",
   "id": "bfa6c3ad",
   "metadata": {},
   "source": [
    "## Zero Model"
   ]
  },
  {
   "cell_type": "code",
   "execution_count": 5,
   "id": "648f6184",
   "metadata": {
    "ExecuteTime": {
     "end_time": "2022-07-01T22:08:47.052510Z",
     "start_time": "2022-07-01T22:08:47.037613Z"
    }
   },
   "outputs": [],
   "source": [
    "y_test = df[df['date'] >= '2019-08-01']['y'].values\n",
    "y_pred = np.zeros(len(y_test))"
   ]
  },
  {
   "cell_type": "code",
   "execution_count": 6,
   "id": "ddee8912",
   "metadata": {
    "ExecuteTime": {
     "end_time": "2022-07-01T22:08:47.067659Z",
     "start_time": "2022-07-01T22:08:47.054782Z"
    }
   },
   "outputs": [
    {
     "data": {
      "text/plain": [
       "(1.0, 0.003840192380665786, -0.15570352486479488, nan)"
      ]
     },
     "execution_count": 6,
     "metadata": {},
     "output_type": "execute_result"
    }
   ],
   "source": [
    "eval_model(y_test,y_pred)"
   ]
  },
  {
   "cell_type": "markdown",
   "id": "dc761caf",
   "metadata": {},
   "source": [
    "## Momentum Model (Shift 22 days)"
   ]
  },
  {
   "cell_type": "code",
   "execution_count": 11,
   "id": "ef4fc30a",
   "metadata": {
    "ExecuteTime": {
     "end_time": "2022-07-01T22:08:47.083680Z",
     "start_time": "2022-07-01T22:08:47.069661Z"
    }
   },
   "outputs": [
    {
     "data": {
      "text/plain": [
       "(0.5824175824175825,\n",
       " 0.004535799676547259,\n",
       " -0.5412245210741353,\n",
       " 0.22861840744490847)"
      ]
     },
     "execution_count": 11,
     "metadata": {},
     "output_type": "execute_result"
    }
   ],
   "source": [
    "df_target = df[['date','y']]\n",
    "df_target['y_pred'] = df.y.shift(22)\n",
    "\n",
    "# get test set range\n",
    "df_target = df_target[df_target['date'] >= '2018-05-01']\n",
    "\n",
    "y_test = df_target['y'].values\n",
    "y_pred = df_target['y_pred'].values\n",
    "\n",
    "eval_model(y_test,y_pred)"
   ]
  },
  {
   "cell_type": "code",
   "execution_count": null,
   "id": "7240204c",
   "metadata": {},
   "outputs": [],
   "source": []
  }
 ],
 "metadata": {
  "interpreter": {
   "hash": "2312e7dbd39b015980af486b7cac733d1b33f50d330b8bb8b81cd3840f94d465"
  },
  "kernelspec": {
   "display_name": "Python 3.9.12 ('timeseries')",
   "language": "python",
   "name": "python3"
  },
  "language_info": {
   "codemirror_mode": {
    "name": "ipython",
    "version": 3
   },
   "file_extension": ".py",
   "mimetype": "text/x-python",
   "name": "python",
   "nbconvert_exporter": "python",
   "pygments_lexer": "ipython3",
   "version": "3.9.12"
  },
  "toc": {
   "base_numbering": 1,
   "nav_menu": {},
   "number_sections": false,
   "sideBar": true,
   "skip_h1_title": false,
   "title_cell": "Table of Contents",
   "title_sidebar": "Contents",
   "toc_cell": false,
   "toc_position": {},
   "toc_section_display": true,
   "toc_window_display": false
  }
 },
 "nbformat": 4,
 "nbformat_minor": 5
}
